{
  "nbformat": 4,
  "nbformat_minor": 0,
  "metadata": {
    "colab": {
      "name": "seir_model_sik.ipynb",
      "provenance": [],
      "collapsed_sections": []
    },
    "kernelspec": {
      "name": "ir",
      "display_name": "R"
    },
    "language_info": {
      "name": "R"
    }
  },
  "cells": [
    {
      "cell_type": "code",
      "execution_count": null,
      "metadata": {
        "id": "4jcN0wjmhRXC",
        "colab": {
          "base_uri": "https://localhost:8080/"
        },
        "outputId": "56651804-2c68-4e30-e3cb-853a832312d3"
      },
      "outputs": [
        {
          "output_type": "stream",
          "name": "stderr",
          "text": [
            "Loading required package: usethis\n",
            "\n"
          ]
        }
      ],
      "source": [
        "library(devtools)"
      ]
    },
    {
      "cell_type": "code",
      "source": [
        "install_git(\"https://github.com/grantbrown/ABSEIR.git\")"
      ],
      "metadata": {
        "colab": {
          "base_uri": "https://localhost:8080/"
        },
        "id": "5q_VjAwJheqE",
        "outputId": "43c034a2-c647-4fdc-82fd-6721e07d241e"
      },
      "execution_count": null,
      "outputs": [
        {
          "output_type": "stream",
          "name": "stderr",
          "text": [
            "Downloading git repo https://github.com/grantbrown/ABSEIR.git\n",
            "\n",
            "'/usr/bin/git' clone --depth 1 --no-hardlinks https://github.com/grantbrown/ABSEIR.git /tmp/RtmpJS1emO/file3c69d8975\n",
            "\n"
          ]
        },
        {
          "output_type": "stream",
          "name": "stdout",
          "text": [
            "RcppEigen (NA -> 0.3.3.9.1) [CRAN]\n"
          ]
        },
        {
          "output_type": "stream",
          "name": "stderr",
          "text": [
            "Installing 1 packages: RcppEigen\n",
            "\n",
            "Installing package into ‘/usr/local/lib/R/site-library’\n",
            "(as ‘lib’ is unspecified)\n",
            "\n"
          ]
        },
        {
          "output_type": "stream",
          "name": "stdout",
          "text": [
            "* checking for file ‘/tmp/RtmpJS1emO/file3c69d8975/DESCRIPTION’ ... OK\n",
            "* preparing ‘ABSEIR’:\n",
            "* checking DESCRIPTION meta-information ... OK\n",
            "* cleaning src\n",
            "* checking for LF line-endings in source and make files and shell scripts\n",
            "* checking for empty or unneeded directories\n",
            "* building ‘ABSEIR_1.4.tar.gz’\n",
            "\n"
          ]
        },
        {
          "output_type": "stream",
          "name": "stderr",
          "text": [
            "Installing package into ‘/usr/local/lib/R/site-library’\n",
            "(as ‘lib’ is unspecified)\n",
            "\n"
          ]
        }
      ]
    },
    {
      "cell_type": "code",
      "source": [
        "library(ABSEIR)"
      ],
      "metadata": {
        "id": "44uLTDGqhj-V",
        "colab": {
          "base_uri": "https://localhost:8080/"
        },
        "outputId": "14467a9b-10e3-4a09-9a96-70e208ee4ba6"
      },
      "execution_count": null,
      "outputs": [
        {
          "output_type": "stream",
          "name": "stderr",
          "text": [
            "Loading required package: Rcpp\n",
            "\n",
            "Loading required package: parallel\n",
            "\n",
            "Loading required package: compiler\n",
            "\n"
          ]
        }
      ]
    },
    {
      "cell_type": "code",
      "source": [
        "Kikwit1995 <- read.csv(\"data_sik.csv\")\n",
        "View(Kikwit1995)"
      ],
      "metadata": {
        "colab": {
          "base_uri": "https://localhost:8080/",
          "height": 1000
        },
        "id": "9m4WRMpZlLWU",
        "outputId": "4a15e452-d0e6-4e16-fb2c-1f84a622fd46"
      },
      "execution_count": null,
      "outputs": [
        {
          "output_type": "display_data",
          "data": {
            "text/plain": [
              "    X   Date       Count\n",
              "1    0  2021-11-01  5   \n",
              "2    1  2021-11-02 10   \n",
              "3    2  2021-11-03 16   \n",
              "4    3  2021-11-04  9   \n",
              "5    4  2021-11-05 11   \n",
              "6    5  2021-11-06  9   \n",
              "7    6  2021-11-07  3   \n",
              "8    7  2021-11-08  4   \n",
              "9    8  2021-11-09 12   \n",
              "10   9  2021-11-10 16   \n",
              "11  10  2021-11-11  6   \n",
              "12  11  2021-11-12 11   \n",
              "13  12  2021-11-13  5   \n",
              "14  13  2021-11-14  5   \n",
              "15  14  2021-11-15  0   \n",
              "16  15  2021-11-16  7   \n",
              "17  16  2021-11-17 12   \n",
              "18  17  2021-11-18  9   \n",
              "19  18  2021-11-19 18   \n",
              "20  19  2021-11-20 14   \n",
              "21  20  2021-11-21  8   \n",
              "22  21  2021-11-22  2   \n",
              "23  22  2021-11-23  5   \n",
              "24  23  2021-11-24  3   \n",
              "25  24  2021-11-25 19   \n",
              "26  25  2021-11-26  9   \n",
              "27  26  2021-11-27  4   \n",
              "28  27  2021-11-28 17   \n",
              "29  28  2021-11-29  5   \n",
              "30  29  2021-11-30  9   \n",
              "⋮   ⋮   ⋮          ⋮    \n",
              "97   96 2022-02-05 82   \n",
              "98   97 2022-02-06 69   \n",
              "99   98 2022-02-07 33   \n",
              "100  99 2022-02-08 75   \n",
              "101 100 2022-02-09 41   \n",
              "102 101 2022-02-10 43   \n",
              "103 102 2022-02-11 28   \n",
              "104 103 2022-02-12 31   \n",
              "105 104 2022-02-13 17   \n",
              "106 105 2022-02-14 13   \n",
              "107 106 2022-02-15 20   \n",
              "108 107 2022-02-16 10   \n",
              "109 108 2022-02-17 11   \n",
              "110 109 2022-02-18 12   \n",
              "111 110 2022-02-19 12   \n",
              "112 111 2022-02-20  5   \n",
              "113 112 2022-02-21  3   \n",
              "114 113 2022-02-22  9   \n",
              "115 114 2022-02-23  8   \n",
              "116 115 2022-02-24  4   \n",
              "117 116 2022-02-25  9   \n",
              "118 117 2022-02-26  2   \n",
              "119 118 2022-02-27  2   \n",
              "120 119 2022-02-28  4   \n",
              "121 120 2022-03-01  4   \n",
              "122 121 2022-03-02  5   \n",
              "123 122 2022-03-03  2   \n",
              "124 123 2022-03-04  2   \n",
              "125 124 2022-03-05  6   \n",
              "126 125 2022-03-06  3   "
            ],
            "text/html": [
              "<table class=\"dataframe\">\n",
              "<caption>A data.frame: 126 × 3</caption>\n",
              "<thead>\n",
              "\t<tr><th scope=col>X</th><th scope=col>Date</th><th scope=col>Count</th></tr>\n",
              "\t<tr><th scope=col>&lt;int&gt;</th><th scope=col>&lt;chr&gt;</th><th scope=col>&lt;int&gt;</th></tr>\n",
              "</thead>\n",
              "<tbody>\n",
              "\t<tr><td> 0</td><td>2021-11-01</td><td> 5</td></tr>\n",
              "\t<tr><td> 1</td><td>2021-11-02</td><td>10</td></tr>\n",
              "\t<tr><td> 2</td><td>2021-11-03</td><td>16</td></tr>\n",
              "\t<tr><td> 3</td><td>2021-11-04</td><td> 9</td></tr>\n",
              "\t<tr><td> 4</td><td>2021-11-05</td><td>11</td></tr>\n",
              "\t<tr><td> 5</td><td>2021-11-06</td><td> 9</td></tr>\n",
              "\t<tr><td> 6</td><td>2021-11-07</td><td> 3</td></tr>\n",
              "\t<tr><td> 7</td><td>2021-11-08</td><td> 4</td></tr>\n",
              "\t<tr><td> 8</td><td>2021-11-09</td><td>12</td></tr>\n",
              "\t<tr><td> 9</td><td>2021-11-10</td><td>16</td></tr>\n",
              "\t<tr><td>10</td><td>2021-11-11</td><td> 6</td></tr>\n",
              "\t<tr><td>11</td><td>2021-11-12</td><td>11</td></tr>\n",
              "\t<tr><td>12</td><td>2021-11-13</td><td> 5</td></tr>\n",
              "\t<tr><td>13</td><td>2021-11-14</td><td> 5</td></tr>\n",
              "\t<tr><td>14</td><td>2021-11-15</td><td> 0</td></tr>\n",
              "\t<tr><td>15</td><td>2021-11-16</td><td> 7</td></tr>\n",
              "\t<tr><td>16</td><td>2021-11-17</td><td>12</td></tr>\n",
              "\t<tr><td>17</td><td>2021-11-18</td><td> 9</td></tr>\n",
              "\t<tr><td>18</td><td>2021-11-19</td><td>18</td></tr>\n",
              "\t<tr><td>19</td><td>2021-11-20</td><td>14</td></tr>\n",
              "\t<tr><td>20</td><td>2021-11-21</td><td> 8</td></tr>\n",
              "\t<tr><td>21</td><td>2021-11-22</td><td> 2</td></tr>\n",
              "\t<tr><td>22</td><td>2021-11-23</td><td> 5</td></tr>\n",
              "\t<tr><td>23</td><td>2021-11-24</td><td> 3</td></tr>\n",
              "\t<tr><td>24</td><td>2021-11-25</td><td>19</td></tr>\n",
              "\t<tr><td>25</td><td>2021-11-26</td><td> 9</td></tr>\n",
              "\t<tr><td>26</td><td>2021-11-27</td><td> 4</td></tr>\n",
              "\t<tr><td>27</td><td>2021-11-28</td><td>17</td></tr>\n",
              "\t<tr><td>28</td><td>2021-11-29</td><td> 5</td></tr>\n",
              "\t<tr><td>29</td><td>2021-11-30</td><td> 9</td></tr>\n",
              "\t<tr><td>⋮</td><td>⋮</td><td>⋮</td></tr>\n",
              "\t<tr><td> 96</td><td>2022-02-05</td><td>82</td></tr>\n",
              "\t<tr><td> 97</td><td>2022-02-06</td><td>69</td></tr>\n",
              "\t<tr><td> 98</td><td>2022-02-07</td><td>33</td></tr>\n",
              "\t<tr><td> 99</td><td>2022-02-08</td><td>75</td></tr>\n",
              "\t<tr><td>100</td><td>2022-02-09</td><td>41</td></tr>\n",
              "\t<tr><td>101</td><td>2022-02-10</td><td>43</td></tr>\n",
              "\t<tr><td>102</td><td>2022-02-11</td><td>28</td></tr>\n",
              "\t<tr><td>103</td><td>2022-02-12</td><td>31</td></tr>\n",
              "\t<tr><td>104</td><td>2022-02-13</td><td>17</td></tr>\n",
              "\t<tr><td>105</td><td>2022-02-14</td><td>13</td></tr>\n",
              "\t<tr><td>106</td><td>2022-02-15</td><td>20</td></tr>\n",
              "\t<tr><td>107</td><td>2022-02-16</td><td>10</td></tr>\n",
              "\t<tr><td>108</td><td>2022-02-17</td><td>11</td></tr>\n",
              "\t<tr><td>109</td><td>2022-02-18</td><td>12</td></tr>\n",
              "\t<tr><td>110</td><td>2022-02-19</td><td>12</td></tr>\n",
              "\t<tr><td>111</td><td>2022-02-20</td><td> 5</td></tr>\n",
              "\t<tr><td>112</td><td>2022-02-21</td><td> 3</td></tr>\n",
              "\t<tr><td>113</td><td>2022-02-22</td><td> 9</td></tr>\n",
              "\t<tr><td>114</td><td>2022-02-23</td><td> 8</td></tr>\n",
              "\t<tr><td>115</td><td>2022-02-24</td><td> 4</td></tr>\n",
              "\t<tr><td>116</td><td>2022-02-25</td><td> 9</td></tr>\n",
              "\t<tr><td>117</td><td>2022-02-26</td><td> 2</td></tr>\n",
              "\t<tr><td>118</td><td>2022-02-27</td><td> 2</td></tr>\n",
              "\t<tr><td>119</td><td>2022-02-28</td><td> 4</td></tr>\n",
              "\t<tr><td>120</td><td>2022-03-01</td><td> 4</td></tr>\n",
              "\t<tr><td>121</td><td>2022-03-02</td><td> 5</td></tr>\n",
              "\t<tr><td>122</td><td>2022-03-03</td><td> 2</td></tr>\n",
              "\t<tr><td>123</td><td>2022-03-04</td><td> 2</td></tr>\n",
              "\t<tr><td>124</td><td>2022-03-05</td><td> 6</td></tr>\n",
              "\t<tr><td>125</td><td>2022-03-06</td><td> 3</td></tr>\n",
              "</tbody>\n",
              "</table>\n"
            ],
            "text/markdown": "\nA data.frame: 126 × 3\n\n| X &lt;int&gt; | Date &lt;chr&gt; | Count &lt;int&gt; |\n|---|---|---|\n|  0 | 2021-11-01 |  5 |\n|  1 | 2021-11-02 | 10 |\n|  2 | 2021-11-03 | 16 |\n|  3 | 2021-11-04 |  9 |\n|  4 | 2021-11-05 | 11 |\n|  5 | 2021-11-06 |  9 |\n|  6 | 2021-11-07 |  3 |\n|  7 | 2021-11-08 |  4 |\n|  8 | 2021-11-09 | 12 |\n|  9 | 2021-11-10 | 16 |\n| 10 | 2021-11-11 |  6 |\n| 11 | 2021-11-12 | 11 |\n| 12 | 2021-11-13 |  5 |\n| 13 | 2021-11-14 |  5 |\n| 14 | 2021-11-15 |  0 |\n| 15 | 2021-11-16 |  7 |\n| 16 | 2021-11-17 | 12 |\n| 17 | 2021-11-18 |  9 |\n| 18 | 2021-11-19 | 18 |\n| 19 | 2021-11-20 | 14 |\n| 20 | 2021-11-21 |  8 |\n| 21 | 2021-11-22 |  2 |\n| 22 | 2021-11-23 |  5 |\n| 23 | 2021-11-24 |  3 |\n| 24 | 2021-11-25 | 19 |\n| 25 | 2021-11-26 |  9 |\n| 26 | 2021-11-27 |  4 |\n| 27 | 2021-11-28 | 17 |\n| 28 | 2021-11-29 |  5 |\n| 29 | 2021-11-30 |  9 |\n| ⋮ | ⋮ | ⋮ |\n|  96 | 2022-02-05 | 82 |\n|  97 | 2022-02-06 | 69 |\n|  98 | 2022-02-07 | 33 |\n|  99 | 2022-02-08 | 75 |\n| 100 | 2022-02-09 | 41 |\n| 101 | 2022-02-10 | 43 |\n| 102 | 2022-02-11 | 28 |\n| 103 | 2022-02-12 | 31 |\n| 104 | 2022-02-13 | 17 |\n| 105 | 2022-02-14 | 13 |\n| 106 | 2022-02-15 | 20 |\n| 107 | 2022-02-16 | 10 |\n| 108 | 2022-02-17 | 11 |\n| 109 | 2022-02-18 | 12 |\n| 110 | 2022-02-19 | 12 |\n| 111 | 2022-02-20 |  5 |\n| 112 | 2022-02-21 |  3 |\n| 113 | 2022-02-22 |  9 |\n| 114 | 2022-02-23 |  8 |\n| 115 | 2022-02-24 |  4 |\n| 116 | 2022-02-25 |  9 |\n| 117 | 2022-02-26 |  2 |\n| 118 | 2022-02-27 |  2 |\n| 119 | 2022-02-28 |  4 |\n| 120 | 2022-03-01 |  4 |\n| 121 | 2022-03-02 |  5 |\n| 122 | 2022-03-03 |  2 |\n| 123 | 2022-03-04 |  2 |\n| 124 | 2022-03-05 |  6 |\n| 125 | 2022-03-06 |  3 |\n\n",
            "text/latex": "A data.frame: 126 × 3\n\\begin{tabular}{lll}\n X & Date & Count\\\\\n <int> & <chr> & <int>\\\\\n\\hline\n\t  0 & 2021-11-01 &  5\\\\\n\t  1 & 2021-11-02 & 10\\\\\n\t  2 & 2021-11-03 & 16\\\\\n\t  3 & 2021-11-04 &  9\\\\\n\t  4 & 2021-11-05 & 11\\\\\n\t  5 & 2021-11-06 &  9\\\\\n\t  6 & 2021-11-07 &  3\\\\\n\t  7 & 2021-11-08 &  4\\\\\n\t  8 & 2021-11-09 & 12\\\\\n\t  9 & 2021-11-10 & 16\\\\\n\t 10 & 2021-11-11 &  6\\\\\n\t 11 & 2021-11-12 & 11\\\\\n\t 12 & 2021-11-13 &  5\\\\\n\t 13 & 2021-11-14 &  5\\\\\n\t 14 & 2021-11-15 &  0\\\\\n\t 15 & 2021-11-16 &  7\\\\\n\t 16 & 2021-11-17 & 12\\\\\n\t 17 & 2021-11-18 &  9\\\\\n\t 18 & 2021-11-19 & 18\\\\\n\t 19 & 2021-11-20 & 14\\\\\n\t 20 & 2021-11-21 &  8\\\\\n\t 21 & 2021-11-22 &  2\\\\\n\t 22 & 2021-11-23 &  5\\\\\n\t 23 & 2021-11-24 &  3\\\\\n\t 24 & 2021-11-25 & 19\\\\\n\t 25 & 2021-11-26 &  9\\\\\n\t 26 & 2021-11-27 &  4\\\\\n\t 27 & 2021-11-28 & 17\\\\\n\t 28 & 2021-11-29 &  5\\\\\n\t 29 & 2021-11-30 &  9\\\\\n\t ⋮ & ⋮ & ⋮\\\\\n\t  96 & 2022-02-05 & 82\\\\\n\t  97 & 2022-02-06 & 69\\\\\n\t  98 & 2022-02-07 & 33\\\\\n\t  99 & 2022-02-08 & 75\\\\\n\t 100 & 2022-02-09 & 41\\\\\n\t 101 & 2022-02-10 & 43\\\\\n\t 102 & 2022-02-11 & 28\\\\\n\t 103 & 2022-02-12 & 31\\\\\n\t 104 & 2022-02-13 & 17\\\\\n\t 105 & 2022-02-14 & 13\\\\\n\t 106 & 2022-02-15 & 20\\\\\n\t 107 & 2022-02-16 & 10\\\\\n\t 108 & 2022-02-17 & 11\\\\\n\t 109 & 2022-02-18 & 12\\\\\n\t 110 & 2022-02-19 & 12\\\\\n\t 111 & 2022-02-20 &  5\\\\\n\t 112 & 2022-02-21 &  3\\\\\n\t 113 & 2022-02-22 &  9\\\\\n\t 114 & 2022-02-23 &  8\\\\\n\t 115 & 2022-02-24 &  4\\\\\n\t 116 & 2022-02-25 &  9\\\\\n\t 117 & 2022-02-26 &  2\\\\\n\t 118 & 2022-02-27 &  2\\\\\n\t 119 & 2022-02-28 &  4\\\\\n\t 120 & 2022-03-01 &  4\\\\\n\t 121 & 2022-03-02 &  5\\\\\n\t 122 & 2022-03-03 &  2\\\\\n\t 123 & 2022-03-04 &  2\\\\\n\t 124 & 2022-03-05 &  6\\\\\n\t 125 & 2022-03-06 &  3\\\\\n\\end{tabular}\n"
          },
          "metadata": {}
        }
      ]
    },
    {
      "cell_type": "code",
      "source": [
        "Kikwit1995[['Date']] <- as.Date(Kikwit1995[['Date']],\n",
        "                                   format = \"%Y-%m-%d\")"
      ],
      "metadata": {
        "id": "mCS7Gj6jF3LV"
      },
      "execution_count": null,
      "outputs": []
    },
    {
      "cell_type": "code",
      "source": [
        "View(Kikwit1995)"
      ],
      "metadata": {
        "colab": {
          "base_uri": "https://localhost:8080/",
          "height": 1000
        },
        "id": "qqWrzJ9iGFE1",
        "outputId": "73339640-9a6a-4a4d-ab89-c8a954a56c69"
      },
      "execution_count": null,
      "outputs": [
        {
          "output_type": "display_data",
          "data": {
            "text/plain": [
              "    X   Date       Count\n",
              "1    0  2021-11-01  5   \n",
              "2    1  2021-11-02 10   \n",
              "3    2  2021-11-03 16   \n",
              "4    3  2021-11-04  9   \n",
              "5    4  2021-11-05 11   \n",
              "6    5  2021-11-06  9   \n",
              "7    6  2021-11-07  3   \n",
              "8    7  2021-11-08  4   \n",
              "9    8  2021-11-09 12   \n",
              "10   9  2021-11-10 16   \n",
              "11  10  2021-11-11  6   \n",
              "12  11  2021-11-12 11   \n",
              "13  12  2021-11-13  5   \n",
              "14  13  2021-11-14  5   \n",
              "15  14  2021-11-15  0   \n",
              "16  15  2021-11-16  7   \n",
              "17  16  2021-11-17 12   \n",
              "18  17  2021-11-18  9   \n",
              "19  18  2021-11-19 18   \n",
              "20  19  2021-11-20 14   \n",
              "21  20  2021-11-21  8   \n",
              "22  21  2021-11-22  2   \n",
              "23  22  2021-11-23  5   \n",
              "24  23  2021-11-24  3   \n",
              "25  24  2021-11-25 19   \n",
              "26  25  2021-11-26  9   \n",
              "27  26  2021-11-27  4   \n",
              "28  27  2021-11-28 17   \n",
              "29  28  2021-11-29  5   \n",
              "30  29  2021-11-30  9   \n",
              "⋮   ⋮   ⋮          ⋮    \n",
              "97   96 2022-02-05 82   \n",
              "98   97 2022-02-06 69   \n",
              "99   98 2022-02-07 33   \n",
              "100  99 2022-02-08 75   \n",
              "101 100 2022-02-09 41   \n",
              "102 101 2022-02-10 43   \n",
              "103 102 2022-02-11 28   \n",
              "104 103 2022-02-12 31   \n",
              "105 104 2022-02-13 17   \n",
              "106 105 2022-02-14 13   \n",
              "107 106 2022-02-15 20   \n",
              "108 107 2022-02-16 10   \n",
              "109 108 2022-02-17 11   \n",
              "110 109 2022-02-18 12   \n",
              "111 110 2022-02-19 12   \n",
              "112 111 2022-02-20  5   \n",
              "113 112 2022-02-21  3   \n",
              "114 113 2022-02-22  9   \n",
              "115 114 2022-02-23  8   \n",
              "116 115 2022-02-24  4   \n",
              "117 116 2022-02-25  9   \n",
              "118 117 2022-02-26  2   \n",
              "119 118 2022-02-27  2   \n",
              "120 119 2022-02-28  4   \n",
              "121 120 2022-03-01  4   \n",
              "122 121 2022-03-02  5   \n",
              "123 122 2022-03-03  2   \n",
              "124 123 2022-03-04  2   \n",
              "125 124 2022-03-05  6   \n",
              "126 125 2022-03-06  3   "
            ],
            "text/html": [
              "<table class=\"dataframe\">\n",
              "<caption>A data.frame: 126 × 3</caption>\n",
              "<thead>\n",
              "\t<tr><th scope=col>X</th><th scope=col>Date</th><th scope=col>Count</th></tr>\n",
              "\t<tr><th scope=col>&lt;int&gt;</th><th scope=col>&lt;date&gt;</th><th scope=col>&lt;int&gt;</th></tr>\n",
              "</thead>\n",
              "<tbody>\n",
              "\t<tr><td> 0</td><td>2021-11-01</td><td> 5</td></tr>\n",
              "\t<tr><td> 1</td><td>2021-11-02</td><td>10</td></tr>\n",
              "\t<tr><td> 2</td><td>2021-11-03</td><td>16</td></tr>\n",
              "\t<tr><td> 3</td><td>2021-11-04</td><td> 9</td></tr>\n",
              "\t<tr><td> 4</td><td>2021-11-05</td><td>11</td></tr>\n",
              "\t<tr><td> 5</td><td>2021-11-06</td><td> 9</td></tr>\n",
              "\t<tr><td> 6</td><td>2021-11-07</td><td> 3</td></tr>\n",
              "\t<tr><td> 7</td><td>2021-11-08</td><td> 4</td></tr>\n",
              "\t<tr><td> 8</td><td>2021-11-09</td><td>12</td></tr>\n",
              "\t<tr><td> 9</td><td>2021-11-10</td><td>16</td></tr>\n",
              "\t<tr><td>10</td><td>2021-11-11</td><td> 6</td></tr>\n",
              "\t<tr><td>11</td><td>2021-11-12</td><td>11</td></tr>\n",
              "\t<tr><td>12</td><td>2021-11-13</td><td> 5</td></tr>\n",
              "\t<tr><td>13</td><td>2021-11-14</td><td> 5</td></tr>\n",
              "\t<tr><td>14</td><td>2021-11-15</td><td> 0</td></tr>\n",
              "\t<tr><td>15</td><td>2021-11-16</td><td> 7</td></tr>\n",
              "\t<tr><td>16</td><td>2021-11-17</td><td>12</td></tr>\n",
              "\t<tr><td>17</td><td>2021-11-18</td><td> 9</td></tr>\n",
              "\t<tr><td>18</td><td>2021-11-19</td><td>18</td></tr>\n",
              "\t<tr><td>19</td><td>2021-11-20</td><td>14</td></tr>\n",
              "\t<tr><td>20</td><td>2021-11-21</td><td> 8</td></tr>\n",
              "\t<tr><td>21</td><td>2021-11-22</td><td> 2</td></tr>\n",
              "\t<tr><td>22</td><td>2021-11-23</td><td> 5</td></tr>\n",
              "\t<tr><td>23</td><td>2021-11-24</td><td> 3</td></tr>\n",
              "\t<tr><td>24</td><td>2021-11-25</td><td>19</td></tr>\n",
              "\t<tr><td>25</td><td>2021-11-26</td><td> 9</td></tr>\n",
              "\t<tr><td>26</td><td>2021-11-27</td><td> 4</td></tr>\n",
              "\t<tr><td>27</td><td>2021-11-28</td><td>17</td></tr>\n",
              "\t<tr><td>28</td><td>2021-11-29</td><td> 5</td></tr>\n",
              "\t<tr><td>29</td><td>2021-11-30</td><td> 9</td></tr>\n",
              "\t<tr><td>⋮</td><td>⋮</td><td>⋮</td></tr>\n",
              "\t<tr><td> 96</td><td>2022-02-05</td><td>82</td></tr>\n",
              "\t<tr><td> 97</td><td>2022-02-06</td><td>69</td></tr>\n",
              "\t<tr><td> 98</td><td>2022-02-07</td><td>33</td></tr>\n",
              "\t<tr><td> 99</td><td>2022-02-08</td><td>75</td></tr>\n",
              "\t<tr><td>100</td><td>2022-02-09</td><td>41</td></tr>\n",
              "\t<tr><td>101</td><td>2022-02-10</td><td>43</td></tr>\n",
              "\t<tr><td>102</td><td>2022-02-11</td><td>28</td></tr>\n",
              "\t<tr><td>103</td><td>2022-02-12</td><td>31</td></tr>\n",
              "\t<tr><td>104</td><td>2022-02-13</td><td>17</td></tr>\n",
              "\t<tr><td>105</td><td>2022-02-14</td><td>13</td></tr>\n",
              "\t<tr><td>106</td><td>2022-02-15</td><td>20</td></tr>\n",
              "\t<tr><td>107</td><td>2022-02-16</td><td>10</td></tr>\n",
              "\t<tr><td>108</td><td>2022-02-17</td><td>11</td></tr>\n",
              "\t<tr><td>109</td><td>2022-02-18</td><td>12</td></tr>\n",
              "\t<tr><td>110</td><td>2022-02-19</td><td>12</td></tr>\n",
              "\t<tr><td>111</td><td>2022-02-20</td><td> 5</td></tr>\n",
              "\t<tr><td>112</td><td>2022-02-21</td><td> 3</td></tr>\n",
              "\t<tr><td>113</td><td>2022-02-22</td><td> 9</td></tr>\n",
              "\t<tr><td>114</td><td>2022-02-23</td><td> 8</td></tr>\n",
              "\t<tr><td>115</td><td>2022-02-24</td><td> 4</td></tr>\n",
              "\t<tr><td>116</td><td>2022-02-25</td><td> 9</td></tr>\n",
              "\t<tr><td>117</td><td>2022-02-26</td><td> 2</td></tr>\n",
              "\t<tr><td>118</td><td>2022-02-27</td><td> 2</td></tr>\n",
              "\t<tr><td>119</td><td>2022-02-28</td><td> 4</td></tr>\n",
              "\t<tr><td>120</td><td>2022-03-01</td><td> 4</td></tr>\n",
              "\t<tr><td>121</td><td>2022-03-02</td><td> 5</td></tr>\n",
              "\t<tr><td>122</td><td>2022-03-03</td><td> 2</td></tr>\n",
              "\t<tr><td>123</td><td>2022-03-04</td><td> 2</td></tr>\n",
              "\t<tr><td>124</td><td>2022-03-05</td><td> 6</td></tr>\n",
              "\t<tr><td>125</td><td>2022-03-06</td><td> 3</td></tr>\n",
              "</tbody>\n",
              "</table>\n"
            ],
            "text/markdown": "\nA data.frame: 126 × 3\n\n| X &lt;int&gt; | Date &lt;date&gt; | Count &lt;int&gt; |\n|---|---|---|\n|  0 | 2021-11-01 |  5 |\n|  1 | 2021-11-02 | 10 |\n|  2 | 2021-11-03 | 16 |\n|  3 | 2021-11-04 |  9 |\n|  4 | 2021-11-05 | 11 |\n|  5 | 2021-11-06 |  9 |\n|  6 | 2021-11-07 |  3 |\n|  7 | 2021-11-08 |  4 |\n|  8 | 2021-11-09 | 12 |\n|  9 | 2021-11-10 | 16 |\n| 10 | 2021-11-11 |  6 |\n| 11 | 2021-11-12 | 11 |\n| 12 | 2021-11-13 |  5 |\n| 13 | 2021-11-14 |  5 |\n| 14 | 2021-11-15 |  0 |\n| 15 | 2021-11-16 |  7 |\n| 16 | 2021-11-17 | 12 |\n| 17 | 2021-11-18 |  9 |\n| 18 | 2021-11-19 | 18 |\n| 19 | 2021-11-20 | 14 |\n| 20 | 2021-11-21 |  8 |\n| 21 | 2021-11-22 |  2 |\n| 22 | 2021-11-23 |  5 |\n| 23 | 2021-11-24 |  3 |\n| 24 | 2021-11-25 | 19 |\n| 25 | 2021-11-26 |  9 |\n| 26 | 2021-11-27 |  4 |\n| 27 | 2021-11-28 | 17 |\n| 28 | 2021-11-29 |  5 |\n| 29 | 2021-11-30 |  9 |\n| ⋮ | ⋮ | ⋮ |\n|  96 | 2022-02-05 | 82 |\n|  97 | 2022-02-06 | 69 |\n|  98 | 2022-02-07 | 33 |\n|  99 | 2022-02-08 | 75 |\n| 100 | 2022-02-09 | 41 |\n| 101 | 2022-02-10 | 43 |\n| 102 | 2022-02-11 | 28 |\n| 103 | 2022-02-12 | 31 |\n| 104 | 2022-02-13 | 17 |\n| 105 | 2022-02-14 | 13 |\n| 106 | 2022-02-15 | 20 |\n| 107 | 2022-02-16 | 10 |\n| 108 | 2022-02-17 | 11 |\n| 109 | 2022-02-18 | 12 |\n| 110 | 2022-02-19 | 12 |\n| 111 | 2022-02-20 |  5 |\n| 112 | 2022-02-21 |  3 |\n| 113 | 2022-02-22 |  9 |\n| 114 | 2022-02-23 |  8 |\n| 115 | 2022-02-24 |  4 |\n| 116 | 2022-02-25 |  9 |\n| 117 | 2022-02-26 |  2 |\n| 118 | 2022-02-27 |  2 |\n| 119 | 2022-02-28 |  4 |\n| 120 | 2022-03-01 |  4 |\n| 121 | 2022-03-02 |  5 |\n| 122 | 2022-03-03 |  2 |\n| 123 | 2022-03-04 |  2 |\n| 124 | 2022-03-05 |  6 |\n| 125 | 2022-03-06 |  3 |\n\n",
            "text/latex": "A data.frame: 126 × 3\n\\begin{tabular}{lll}\n X & Date & Count\\\\\n <int> & <date> & <int>\\\\\n\\hline\n\t  0 & 2021-11-01 &  5\\\\\n\t  1 & 2021-11-02 & 10\\\\\n\t  2 & 2021-11-03 & 16\\\\\n\t  3 & 2021-11-04 &  9\\\\\n\t  4 & 2021-11-05 & 11\\\\\n\t  5 & 2021-11-06 &  9\\\\\n\t  6 & 2021-11-07 &  3\\\\\n\t  7 & 2021-11-08 &  4\\\\\n\t  8 & 2021-11-09 & 12\\\\\n\t  9 & 2021-11-10 & 16\\\\\n\t 10 & 2021-11-11 &  6\\\\\n\t 11 & 2021-11-12 & 11\\\\\n\t 12 & 2021-11-13 &  5\\\\\n\t 13 & 2021-11-14 &  5\\\\\n\t 14 & 2021-11-15 &  0\\\\\n\t 15 & 2021-11-16 &  7\\\\\n\t 16 & 2021-11-17 & 12\\\\\n\t 17 & 2021-11-18 &  9\\\\\n\t 18 & 2021-11-19 & 18\\\\\n\t 19 & 2021-11-20 & 14\\\\\n\t 20 & 2021-11-21 &  8\\\\\n\t 21 & 2021-11-22 &  2\\\\\n\t 22 & 2021-11-23 &  5\\\\\n\t 23 & 2021-11-24 &  3\\\\\n\t 24 & 2021-11-25 & 19\\\\\n\t 25 & 2021-11-26 &  9\\\\\n\t 26 & 2021-11-27 &  4\\\\\n\t 27 & 2021-11-28 & 17\\\\\n\t 28 & 2021-11-29 &  5\\\\\n\t 29 & 2021-11-30 &  9\\\\\n\t ⋮ & ⋮ & ⋮\\\\\n\t  96 & 2022-02-05 & 82\\\\\n\t  97 & 2022-02-06 & 69\\\\\n\t  98 & 2022-02-07 & 33\\\\\n\t  99 & 2022-02-08 & 75\\\\\n\t 100 & 2022-02-09 & 41\\\\\n\t 101 & 2022-02-10 & 43\\\\\n\t 102 & 2022-02-11 & 28\\\\\n\t 103 & 2022-02-12 & 31\\\\\n\t 104 & 2022-02-13 & 17\\\\\n\t 105 & 2022-02-14 & 13\\\\\n\t 106 & 2022-02-15 & 20\\\\\n\t 107 & 2022-02-16 & 10\\\\\n\t 108 & 2022-02-17 & 11\\\\\n\t 109 & 2022-02-18 & 12\\\\\n\t 110 & 2022-02-19 & 12\\\\\n\t 111 & 2022-02-20 &  5\\\\\n\t 112 & 2022-02-21 &  3\\\\\n\t 113 & 2022-02-22 &  9\\\\\n\t 114 & 2022-02-23 &  8\\\\\n\t 115 & 2022-02-24 &  4\\\\\n\t 116 & 2022-02-25 &  9\\\\\n\t 117 & 2022-02-26 &  2\\\\\n\t 118 & 2022-02-27 &  2\\\\\n\t 119 & 2022-02-28 &  4\\\\\n\t 120 & 2022-03-01 &  4\\\\\n\t 121 & 2022-03-02 &  5\\\\\n\t 122 & 2022-03-03 &  2\\\\\n\t 123 & 2022-03-04 &  2\\\\\n\t 124 & 2022-03-05 &  6\\\\\n\t 125 & 2022-03-06 &  3\\\\\n\\end{tabular}\n"
          },
          "metadata": {}
        }
      ]
    },
    {
      "cell_type": "code",
      "source": [
        "# make barplot of new case counts\n",
        "barplot(t(Kikwit1995$Count), main = \"New Cases\", xlab = \"Day\", ylab = \"Cases\")\n",
        "# add an X axis to give a reference epidemic time\n",
        "axis(side = 1, at = seq(0, nrow(Kikwit1995), 50)) "
      ],
      "metadata": {
        "colab": {
          "base_uri": "https://localhost:8080/",
          "height": 437
        },
        "id": "_UUiSe4xluwd",
        "outputId": "450eec60-ce6c-4045-e150-20889dfef6f3"
      },
      "execution_count": null,
      "outputs": [
        {
          "output_type": "display_data",
          "data": {
            "text/plain": [
              "Plot with title “New Cases”"
            ],
            "image/png": "[encoded data removed]"
          },
          "metadata": {
            "image/png": {
              "width": 420,
              "height": 420
            }
          }
        }
      ]
    },
    {
      "cell_type": "code",
      "source": [
        "# Create a model to relate observe data to epidemic process\n",
        "data_model = DataModel(Kikwit1995$Count,\n",
        "                       type = \"identity\",\n",
        "                       compartment=\"I_star\",\n",
        "                       cumulative=FALSE)"
      ],
      "metadata": {
        "id": "GxumyQfilzq3"
      },
      "execution_count": null,
      "outputs": []
    },
    {
      "cell_type": "code",
      "source": [
        "# Create a model to describe relationship of any covariates to epidemic intensity\n",
        "exposure_model_1 = ExposureModel(matrix(1, nrow = nrow(Kikwit1995)),\n",
        "                                nTpt = nrow(Kikwit1995),\n",
        "                                nLoc = 1,\n",
        "                                betaPriorPrecision = 0.5,\n",
        "                                betaPriorMean = 0)"
      ],
      "metadata": {
        "colab": {
          "base_uri": "https://localhost:8080/"
        },
        "id": "jVSsvP55l6NP",
        "outputId": "b690d30f-e2ed-49c5-d432-3a0cfd4cd548"
      },
      "execution_count": null,
      "outputs": [
        {
          "output_type": "stream",
          "name": "stdout",
          "text": [
            "[1] \"Assuming equally spaced count data.\"\n"
          ]
        }
      ]
    },
    {
      "cell_type": "code",
      "source": [
        "# Create a (more realistic) Model to describe relationship of any covariates to epidemic intensity\n",
        "# In this analysis we know on which date interventions began, so we may include a linear term\n",
        "# starting on that date. \n",
        "intervention_term = cumsum(Kikwit1995$Date >  as.Date(\"01-03-2022\", \"%m-%d-%Y\"))\n",
        "exposure_model_2 = ExposureModel(cbind(1,intervention_term),\n",
        "                                nTpt = nrow(Kikwit1995),\n",
        "                                nLoc = 1,\n",
        "                                betaPriorPrecision = 0.5,\n",
        "                                betaPriorMean = 0)"
      ],
      "metadata": {
        "colab": {
          "base_uri": "https://localhost:8080/"
        },
        "id": "pk9Lheoyl9z2",
        "outputId": "e479ec71-6f88-4127-985d-97172c0b93ee"
      },
      "execution_count": null,
      "outputs": [
        {
          "output_type": "stream",
          "name": "stdout",
          "text": [
            "[1] \"Assuming equally spaced count data.\"\n"
          ]
        }
      ]
    },
    {
      "cell_type": "code",
      "source": [
        "# There's no reinfection in this case, so we just use a \"SEIR\" model. \n",
        "reinfection_model = ReinfectionModel(\"SEIR\")"
      ],
      "metadata": {
        "id": "Sg4xNvYcZapF"
      },
      "execution_count": null,
      "outputs": []
    },
    {
      "cell_type": "code",
      "source": [
        "distance_model = DistanceModel(list(matrix(0)))"
      ],
      "metadata": {
        "id": "81PX68cPmKoA"
      },
      "execution_count": null,
      "outputs": []
    },
    {
      "cell_type": "code",
      "source": [
        "# Set initial population sizes\n",
        "initial_value_container = InitialValueContainer(S0=6.62e5,\n",
        "                                                E0=5,\n",
        "                                                I0=5,\n",
        "                                                R0=2)"
      ],
      "metadata": {
        "id": "UqmQA8R6mNJn"
      },
      "execution_count": null,
      "outputs": []
    },
    {
      "cell_type": "code",
      "source": [
        "transition_priors = ExponentialTransitionPriors(p_ei = 0.5, \n",
        "                                     p_ir= 0.5,\n",
        "                                     p_ei_ess = 300,\n",
        "                                     p_ir_ess = 300)"
      ],
      "metadata": {
        "id": "aoSGLW9YmRZj"
      },
      "execution_count": null,
      "outputs": []
    },
    {
      "cell_type": "code",
      "source": [
        "# Set algorithm configuration\n",
        "sampling_control = SamplingControl(seed = 123123, \n",
        "                                   n_cores = 8,\n",
        "                                   algorithm=\"Beaumont2009\",\n",
        "                                   list(batch_size = 2000,\n",
        "                                           epochs = 1e6,\n",
        "                                           max_batches = 100,\n",
        "                                           shrinkage = 0.99,\n",
        "                                           multivariate_perturbation=FALSE,\n",
        "                                           keep_compartments = TRUE\n",
        "                                         )\n",
        "                                   )"
      ],
      "metadata": {
        "id": "4v1vS3YYmT28"
      },
      "execution_count": null,
      "outputs": []
    },
    {
      "cell_type": "code",
      "source": [
        "# Underspecified intensity\n",
        "runtime1 = system.time(result1 <- SpatialSEIRModel(data_model,\n",
        "                          exposure_model_1,\n",
        "                          reinfection_model,\n",
        "                          distance_model,\n",
        "                          transition_priors,\n",
        "                          initial_value_container,\n",
        "                          sampling_control,\n",
        "                          samples = 100,\n",
        "                          verbose = 0))\n",
        "#     user   system  elapsed \n",
        "# 2258.391   17.449  294.584\n",
        "runtime2 = system.time(result2 <- SpatialSEIRModel(data_model,\n",
        "                          exposure_model_2,\n",
        "                          reinfection_model,\n",
        "                          distance_model,\n",
        "                          transition_priors,\n",
        "                          initial_value_container,\n",
        "                          sampling_control,\n",
        "                          samples = 100,\n",
        "                          verbose = 0))"
      ],
      "metadata": {
        "id": "2MhbXlTtmXqd"
      },
      "execution_count": null,
      "outputs": []
    },
    {
      "cell_type": "code",
      "source": [
        "timeMatrix = rbind(runtime1,runtime2)\n",
        "rownames(timeMatrix) = paste(\"model\", 1:2)\n",
        "print(timeMatrix[,1:3])"
      ],
      "metadata": {
        "id": "MFZZefowma8X",
        "colab": {
          "base_uri": "https://localhost:8080/"
        },
        "outputId": "b50e278f-a4fd-4de2-ad5b-41f2abfa710c"
      },
      "execution_count": null,
      "outputs": [
        {
          "output_type": "stream",
          "name": "stdout",
          "text": [
            "        user.self sys.self elapsed\n",
            "model 1   225.800    3.631 117.431\n",
            "model 2   542.808    8.082 281.768\n"
          ]
        }
      ]
    },
    {
      "cell_type": "code",
      "source": [
        "summary(result2)"
      ],
      "metadata": {
        "colab": {
          "base_uri": "https://localhost:8080/",
          "height": 381
        },
        "id": "bJ-rC63BJqW3",
        "outputId": "9fef24f7-0ba8-4423-8c81-fdd8ff98a9c9"
      },
      "execution_count": null,
      "outputs": [
        {
          "output_type": "display_data",
          "data": {
            "text/plain": [
              "Summary: SEIR Model \n",
              "\n",
              "Locations: 1\n",
              "Time Points: 126\n",
              "Data Model Parameters: 0\n",
              "Exposure Process Parameters: 2\n",
              "Reinfection Model Parameters: 0\n",
              "Spatial Parameters: 0\n",
              "Transition Parameters: 2\n",
              "\n",
              "\n",
              "Parameter Estimates:\n",
              "               Mean    SD    95% LB     95% UB\n",
              "Beta_SE_1 -3.17e-01 0.173 -6.99e-01     -0.030\n",
              "Beta_SE_2 -2.40e-02 0.005 -3.50e-02     -0.015\n",
              "gamma_EI   7.64e-01 0.429  2.55e-01      1.632\n",
              "gamma_IR   7.48e-01 0.202  4.03e-01      1.138\n",
              "S0_1       6.62e+05 0.000  6.62e+05 662000.000\n",
              "E0_1       5.00e+00 0.000  5.00e+00      5.000\n",
              "I0_1       5.00e+00 0.000  5.00e+00      5.000\n",
              "R0_1       2.00e+00 0.000  2.00e+00      2.000\n"
            ]
          },
          "metadata": {}
        }
      ]
    },
    {
      "cell_type": "code",
      "source": [
        "plot(result2)"
      ],
      "metadata": {
        "colab": {
          "base_uri": "https://localhost:8080/",
          "height": 1000
        },
        "id": "u5RDpHIEU_1S",
        "outputId": "372e9cd5-3c7d-4d82-b266-e8ad767865a9"
      },
      "execution_count": null,
      "outputs": [
        {
          "name": "stdout",
          "output_type": "stream",
          "text": [
            "Press return to see next plot:\n",
            "Press return to see next plot:\n"
          ]
        },
        {
          "output_type": "display_data",
          "data": {
            "text/plain": [
              "Plot with title “Beta_SE_1”"
            ],
            "image/png": "[encoded data removed]"
          },
          "metadata": {
            "image/png": {
              "width": 420,
              "height": 420
            }
          }
        },
        {
          "name": "stdout",
          "output_type": "stream",
          "text": [
            "Press return to see next plot:\n"
          ]
        },
        {
          "output_type": "display_data",
          "data": {
            "text/plain": [
              "Plot with title “Beta_SE_2”"
            ],
            "image/png": "[encoded data removed]"
          },
          "metadata": {
            "image/png": {
              "width": 420,
              "height": 420
            }
          }
        },
        {
          "name": "stdout",
          "output_type": "stream",
          "text": [
            "Press return to see next plot:\n"
          ]
        },
        {
          "output_type": "display_data",
          "data": {
            "text/plain": [
              "Plot with title “gamma_EI”"
            ],
            "image/png": "[encoded data removed]"
          },
          "metadata": {
            "image/png": {
              "width": 420,
              "height": 420
            }
          }
        },
        {
          "name": "stdout",
          "output_type": "stream",
          "text": [
            "Press return to see next plot:\n"
          ]
        },
        {
          "output_type": "display_data",
          "data": {
            "text/plain": [
              "Plot with title “gamma_IR”"
            ],
            "image/png": "[encoded data removed]"
          },
          "metadata": {
            "image/png": {
              "width": 420,
              "height": 420
            }
          }
        },
        {
          "name": "stdout",
          "output_type": "stream",
          "text": [
            "Press return to see next plot:\n"
          ]
        },
        {
          "output_type": "display_data",
          "data": {
            "text/plain": [
              "Plot with title “S0_1”"
            ],
            "image/png": "[encoded data removed]"
          },
          "metadata": {
            "image/png": {
              "width": 420,
              "height": 420
            }
          }
        },
        {
          "name": "stdout",
          "output_type": "stream",
          "text": [
            "Press return to see next plot:\n"
          ]
        },
        {
          "output_type": "display_data",
          "data": {
            "text/plain": [
              "Plot with title “E0_1”"
            ],
            "image/png": "[encoded data removed]"
          },
          "metadata": {
            "image/png": {
              "width": 420,
              "height": 420
            }
          }
        },
        {
          "output_type": "stream",
          "name": "stdout",
          "text": [
            "Press return to see next plot:"
          ]
        },
        {
          "output_type": "display_data",
          "data": {
            "text/plain": [
              "Plot with title “I0_1”"
            ],
            "image/png": "[encoded data removed]"
          },
          "metadata": {
            "image/png": {
              "width": 420,
              "height": 420
            }
          }
        },
        {
          "output_type": "display_data",
          "data": {
            "text/plain": [
              "Plot with title “R0_1”"
            ],
            "image/png": "[encoded data removed]"
          },
          "metadata": {
            "image/png": {
              "width": 420,
              "height": 420
            }
          }
        }
      ]
    },
    {
      "cell_type": "code",
      "source": [
        "compareModels(list(result1, result2), n_samples = 1000, \n",
        "              batch_size = 2000)"
      ],
      "metadata": {
        "colab": {
          "base_uri": "https://localhost:8080/",
          "height": 149
        },
        "id": "bSSfAdFKJv0h",
        "outputId": "33ef65f4-6066-4097-ac1a-ec470dc2241b"
      },
      "execution_count": null,
      "outputs": [
        {
          "output_type": "stream",
          "name": "stdout",
          "text": [
            "[1] \"Assuming equal prior probabilities.\"\n"
          ]
        },
        {
          "output_type": "display_data",
          "data": {
            "text/html": [
              "<table class=\"dataframe\">\n",
              "<caption>A matrix: 2 × 2 of type dbl</caption>\n",
              "<tbody>\n",
              "\t<tr><td>NaN</td><td>0</td></tr>\n",
              "\t<tr><td>Inf</td><td>1</td></tr>\n",
              "</tbody>\n",
              "</table>\n"
            ],
            "text/markdown": "\nA matrix: 2 × 2 of type dbl\n\n| NaN | 0 |\n| Inf | 1 |\n\n",
            "text/latex": "A matrix: 2 × 2 of type dbl\n\\begin{tabular}{ll}\n\t NaN & 0\\\\\n\t Inf & 1\\\\\n\\end{tabular}\n",
            "text/plain": [
              "     [,1] [,2]\n",
              "[1,] NaN  0   \n",
              "[2,] Inf  1   "
            ]
          },
          "metadata": {}
        }
      ]
    },
    {
      "cell_type": "code",
      "source": [
        "# Simulate new epidemics based on the accepted parameters for model 1\n",
        "simulations1 <- epidemic.simulations(result1, replicates = 50)\n",
        "simulations2 <- epidemic.simulations(result2, replicates = 50)\n",
        "# Add reproductive number estimates to simulation results\n",
        "system.time(simulations1 <- ComputeR0(simulations1))"
      ],
      "metadata": {
        "id": "CH3aXsEFsI3y",
        "colab": {
          "base_uri": "https://localhost:8080/",
          "height": 69
        },
        "outputId": "a0ff8166-fb73-4210-8945-943b2ace0a04"
      },
      "execution_count": null,
      "outputs": [
        {
          "output_type": "stream",
          "name": "stdout",
          "text": [
            "[1] \"Done with R0sim\"\n"
          ]
        },
        {
          "output_type": "display_data",
          "data": {
            "text/plain": [
              "   user  system elapsed \n",
              "  0.743   0.178  99.062 "
            ]
          },
          "metadata": {}
        }
      ]
    },
    {
      "cell_type": "code",
      "source": [
        "plotPosteriorPredictive = function(simulations, main)\n",
        "{\n",
        "  allSimulatedI_star = sapply(simulations$simulationResults, function(x){x$I_star})\n",
        "  \n",
        "  lowerQuantile = apply(allSimulatedI_star, 1, quantile, probs = c(0.025))\n",
        "  posteriorMean = apply(allSimulatedI_star, 1, mean)\n",
        "  upperQuantile = apply(allSimulatedI_star, 1, quantile, probs = c(0.975))\n",
        "  \n",
        "  \n",
        "  plot(Kikwit1995$Count, ylim = c(0, max(Kikwit1995$Count)*2),\n",
        "       xlab = \"Epidemic Day\", ylab = \"New Cases\", main = main)\n",
        "  lines(upperQuantile, lty = 2, col = \"blue\")\n",
        "  lines(lowerQuantile, lty = 2, col = \"blue\")\n",
        "  lines(posteriorMean, lty = 1, col = \"blue\")\n",
        "  \n",
        "\n",
        "}\n",
        " "
      ],
      "metadata": {
        "id": "WST2-rJT-Tdz"
      },
      "execution_count": null,
      "outputs": []
    },
    {
      "cell_type": "code",
      "source": [
        "plotPosteriorPredictive = function(simulations, main)\n",
        "{\n",
        "  allSimulatedI_star = sapply(simulations$simulationResults, function(x){x$I_star})\n",
        "  \n",
        "  lowerQuantile = apply(allSimulatedI_star, 1, quantile, probs = c(0.025))\n",
        "  posteriorMean = apply(allSimulatedI_star, 1, mean)\n",
        "  upperQuantile = apply(allSimulatedI_star, 1, quantile, probs = c(0.975))\n",
        "  \n",
        "  \n",
        "  plot(Kikwit1995$Count, ylim = c(0, max(Kikwit1995$Count)),\n",
        "       xlab = \"Epidemic Day\", ylab = \"New Cases\", main = main)\n",
        "  lines(upperQuantile, lty = 2, col = \"blue\")\n",
        "  lines(lowerQuantile, lty = 2, col = \"blue\")\n",
        "  lines(posteriorMean, lty = 1, col = \"blue\")\n",
        "  \n",
        "\n",
        "}\n",
        "plotPosteriorPredictive(result2, \"Model 2: Posterior Distribution\")"
      ],
      "metadata": {
        "id": "k-SZfmpAJ6sA"
      },
      "execution_count": null,
      "outputs": []
    },
    {
      "cell_type": "code",
      "source": [
        ""
      ],
      "metadata": {
        "id": "0q9ZGyQJJOV_"
      },
      "execution_count": null,
      "outputs": []
    }
  ]
}