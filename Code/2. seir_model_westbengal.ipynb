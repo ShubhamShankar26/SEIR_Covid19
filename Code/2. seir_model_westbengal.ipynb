{
  "nbformat": 4,
  "nbformat_minor": 0,
  "metadata": {
    "colab": {
      "name": "seir_model_wb.ipynb",
      "provenance": [],
      "collapsed_sections": []
    },
    "kernelspec": {
      "name": "ir",
      "display_name": "R"
    },
    "language_info": {
      "name": "R"
    }
  },
  "cells": [
    {
      "cell_type": "code",
      "execution_count": null,
      "metadata": {
        "id": "4jcN0wjmhRXC",
        "colab": {
          "base_uri": "https://localhost:8080/"
        },
        "outputId": "228abb70-b7eb-468d-8051-7eceb38306bb"
      },
      "outputs": [
        {
          "output_type": "stream",
          "name": "stderr",
          "text": [
            "Loading required package: usethis\n",
            "\n"
          ]
        }
      ],
      "source": [
        "library(devtools)"
      ]
    },
    {
      "cell_type": "code",
      "source": [
        "install_git(\"https://github.com/grantbrown/ABSEIR.git\")"
      ],
      "metadata": {
        "colab": {
          "base_uri": "https://localhost:8080/"
        },
        "id": "5q_VjAwJheqE",
        "outputId": "52cd7579-3f30-4d0a-83f8-d51697736c53"
      },
      "execution_count": null,
      "outputs": [
        {
          "output_type": "stream",
          "name": "stderr",
          "text": [
            "Downloading git repo https://github.com/grantbrown/ABSEIR.git\n",
            "\n",
            "'/usr/bin/git' clone --depth 1 --no-hardlinks https://github.com/grantbrown/ABSEIR.git /tmp/RtmpvmW86K/file3d759611c7\n",
            "\n"
          ]
        },
        {
          "output_type": "stream",
          "name": "stdout",
          "text": [
            "RcppEigen (NA -> 0.3.3.9.1) [CRAN]\n"
          ]
        },
        {
          "output_type": "stream",
          "name": "stderr",
          "text": [
            "Installing 1 packages: RcppEigen\n",
            "\n",
            "Installing package into ‘/usr/local/lib/R/site-library’\n",
            "(as ‘lib’ is unspecified)\n",
            "\n"
          ]
        },
        {
          "output_type": "stream",
          "name": "stdout",
          "text": [
            "* checking for file ‘/tmp/RtmpvmW86K/file3d759611c7/DESCRIPTION’ ... OK\n",
            "* preparing ‘ABSEIR’:\n",
            "* checking DESCRIPTION meta-information ... OK\n",
            "* cleaning src\n",
            "* checking for LF line-endings in source and make files and shell scripts\n",
            "* checking for empty or unneeded directories\n",
            "* building ‘ABSEIR_1.4.tar.gz’\n",
            "\n"
          ]
        },
        {
          "output_type": "stream",
          "name": "stderr",
          "text": [
            "Installing package into ‘/usr/local/lib/R/site-library’\n",
            "(as ‘lib’ is unspecified)\n",
            "\n"
          ]
        }
      ]
    },
    {
      "cell_type": "code",
      "source": [
        "library(ABSEIR)"
      ],
      "metadata": {
        "id": "44uLTDGqhj-V",
        "colab": {
          "base_uri": "https://localhost:8080/"
        },
        "outputId": "c513f85f-f257-4b36-b9c9-c6c5149b003f"
      },
      "execution_count": null,
      "outputs": [
        {
          "output_type": "stream",
          "name": "stderr",
          "text": [
            "Loading required package: Rcpp\n",
            "\n",
            "Loading required package: parallel\n",
            "\n",
            "Loading required package: compiler\n",
            "\n"
          ]
        }
      ]
    },
    {
      "cell_type": "code",
      "source": [
        "Kikwit1995 <- read.csv(\"data_wb.csv\")\n",
        "View(Kikwit1995)"
      ],
      "metadata": {
        "colab": {
          "base_uri": "https://localhost:8080/",
          "height": 1000
        },
        "id": "9m4WRMpZlLWU",
        "outputId": "809af984-68df-4cfa-d883-c17b143cfd3a"
      },
      "execution_count": null,
      "outputs": [
        {
          "output_type": "display_data",
          "data": {
            "text/plain": [
              "    X   Date       Count\n",
              "1    0  2021-11-01 725  \n",
              "2    1  2021-11-02 862  \n",
              "3    2  2021-11-03 919  \n",
              "4    3  2021-11-04 918  \n",
              "5    4  2021-11-05 763  \n",
              "6    5  2021-11-06 670  \n",
              "7    6  2021-11-07 723  \n",
              "8    7  2021-11-08 603  \n",
              "9    8  2021-11-09 788  \n",
              "10   9  2021-11-10 853  \n",
              "11  10  2021-11-11 854  \n",
              "12  11  2021-11-12 860  \n",
              "13  12  2021-11-13 872  \n",
              "14  13  2021-11-14 875  \n",
              "15  14  2021-11-15 782  \n",
              "16  15  2021-11-16 819  \n",
              "17  16  2021-11-17 862  \n",
              "18  17  2021-11-18 860  \n",
              "19  18  2021-11-19 877  \n",
              "20  19  2021-11-20 725  \n",
              "21  20  2021-11-21 727  \n",
              "22  21  2021-11-22 615  \n",
              "23  22  2021-11-23 720  \n",
              "24  23  2021-11-24 803  \n",
              "25  24  2021-11-25 758  \n",
              "26  25  2021-11-26 710  \n",
              "27  26  2021-11-27 701  \n",
              "28  27  2021-11-28 715  \n",
              "29  28  2021-11-29 511  \n",
              "30  29  2021-11-30 705  \n",
              "⋮   ⋮   ⋮          ⋮    \n",
              "97   96 2022-02-05 1345 \n",
              "98   97 2022-02-06  835 \n",
              "99   98 2022-02-07  641 \n",
              "100  99 2022-02-08  736 \n",
              "101 100 2022-02-09  884 \n",
              "102 101 2022-02-10  817 \n",
              "103 102 2022-02-11  767 \n",
              "104 103 2022-02-12  672 \n",
              "105 104 2022-02-13  512 \n",
              "106 105 2022-02-14  320 \n",
              "107 106 2022-02-15  348 \n",
              "108 107 2022-02-16  439 \n",
              "109 108 2022-02-17  467 \n",
              "110 109 2022-02-18  319 \n",
              "111 110 2022-02-19  281 \n",
              "112 111 2022-02-20  278 \n",
              "113 112 2022-02-21  200 \n",
              "114 113 2022-02-22  236 \n",
              "115 114 2022-02-23  272 \n",
              "116 115 2022-02-24  246 \n",
              "117 116 2022-02-25  260 \n",
              "118 117 2022-02-26  236 \n",
              "119 118 2022-02-27  215 \n",
              "120 119 2022-02-28   89 \n",
              "121 120 2022-03-01  146 \n",
              "122 121 2022-03-02  153 \n",
              "123 122 2022-03-03  139 \n",
              "124 123 2022-03-04  125 \n",
              "125 124 2022-03-05  102 \n",
              "126 125 2022-03-06   90 "
            ],
            "text/html": [
              "<table class=\"dataframe\">\n",
              "<caption>A data.frame: 126 × 3</caption>\n",
              "<thead>\n",
              "\t<tr><th scope=col>X</th><th scope=col>Date</th><th scope=col>Count</th></tr>\n",
              "\t<tr><th scope=col>&lt;int&gt;</th><th scope=col>&lt;chr&gt;</th><th scope=col>&lt;int&gt;</th></tr>\n",
              "</thead>\n",
              "<tbody>\n",
              "\t<tr><td> 0</td><td>2021-11-01</td><td>725</td></tr>\n",
              "\t<tr><td> 1</td><td>2021-11-02</td><td>862</td></tr>\n",
              "\t<tr><td> 2</td><td>2021-11-03</td><td>919</td></tr>\n",
              "\t<tr><td> 3</td><td>2021-11-04</td><td>918</td></tr>\n",
              "\t<tr><td> 4</td><td>2021-11-05</td><td>763</td></tr>\n",
              "\t<tr><td> 5</td><td>2021-11-06</td><td>670</td></tr>\n",
              "\t<tr><td> 6</td><td>2021-11-07</td><td>723</td></tr>\n",
              "\t<tr><td> 7</td><td>2021-11-08</td><td>603</td></tr>\n",
              "\t<tr><td> 8</td><td>2021-11-09</td><td>788</td></tr>\n",
              "\t<tr><td> 9</td><td>2021-11-10</td><td>853</td></tr>\n",
              "\t<tr><td>10</td><td>2021-11-11</td><td>854</td></tr>\n",
              "\t<tr><td>11</td><td>2021-11-12</td><td>860</td></tr>\n",
              "\t<tr><td>12</td><td>2021-11-13</td><td>872</td></tr>\n",
              "\t<tr><td>13</td><td>2021-11-14</td><td>875</td></tr>\n",
              "\t<tr><td>14</td><td>2021-11-15</td><td>782</td></tr>\n",
              "\t<tr><td>15</td><td>2021-11-16</td><td>819</td></tr>\n",
              "\t<tr><td>16</td><td>2021-11-17</td><td>862</td></tr>\n",
              "\t<tr><td>17</td><td>2021-11-18</td><td>860</td></tr>\n",
              "\t<tr><td>18</td><td>2021-11-19</td><td>877</td></tr>\n",
              "\t<tr><td>19</td><td>2021-11-20</td><td>725</td></tr>\n",
              "\t<tr><td>20</td><td>2021-11-21</td><td>727</td></tr>\n",
              "\t<tr><td>21</td><td>2021-11-22</td><td>615</td></tr>\n",
              "\t<tr><td>22</td><td>2021-11-23</td><td>720</td></tr>\n",
              "\t<tr><td>23</td><td>2021-11-24</td><td>803</td></tr>\n",
              "\t<tr><td>24</td><td>2021-11-25</td><td>758</td></tr>\n",
              "\t<tr><td>25</td><td>2021-11-26</td><td>710</td></tr>\n",
              "\t<tr><td>26</td><td>2021-11-27</td><td>701</td></tr>\n",
              "\t<tr><td>27</td><td>2021-11-28</td><td>715</td></tr>\n",
              "\t<tr><td>28</td><td>2021-11-29</td><td>511</td></tr>\n",
              "\t<tr><td>29</td><td>2021-11-30</td><td>705</td></tr>\n",
              "\t<tr><td>⋮</td><td>⋮</td><td>⋮</td></tr>\n",
              "\t<tr><td> 96</td><td>2022-02-05</td><td>1345</td></tr>\n",
              "\t<tr><td> 97</td><td>2022-02-06</td><td> 835</td></tr>\n",
              "\t<tr><td> 98</td><td>2022-02-07</td><td> 641</td></tr>\n",
              "\t<tr><td> 99</td><td>2022-02-08</td><td> 736</td></tr>\n",
              "\t<tr><td>100</td><td>2022-02-09</td><td> 884</td></tr>\n",
              "\t<tr><td>101</td><td>2022-02-10</td><td> 817</td></tr>\n",
              "\t<tr><td>102</td><td>2022-02-11</td><td> 767</td></tr>\n",
              "\t<tr><td>103</td><td>2022-02-12</td><td> 672</td></tr>\n",
              "\t<tr><td>104</td><td>2022-02-13</td><td> 512</td></tr>\n",
              "\t<tr><td>105</td><td>2022-02-14</td><td> 320</td></tr>\n",
              "\t<tr><td>106</td><td>2022-02-15</td><td> 348</td></tr>\n",
              "\t<tr><td>107</td><td>2022-02-16</td><td> 439</td></tr>\n",
              "\t<tr><td>108</td><td>2022-02-17</td><td> 467</td></tr>\n",
              "\t<tr><td>109</td><td>2022-02-18</td><td> 319</td></tr>\n",
              "\t<tr><td>110</td><td>2022-02-19</td><td> 281</td></tr>\n",
              "\t<tr><td>111</td><td>2022-02-20</td><td> 278</td></tr>\n",
              "\t<tr><td>112</td><td>2022-02-21</td><td> 200</td></tr>\n",
              "\t<tr><td>113</td><td>2022-02-22</td><td> 236</td></tr>\n",
              "\t<tr><td>114</td><td>2022-02-23</td><td> 272</td></tr>\n",
              "\t<tr><td>115</td><td>2022-02-24</td><td> 246</td></tr>\n",
              "\t<tr><td>116</td><td>2022-02-25</td><td> 260</td></tr>\n",
              "\t<tr><td>117</td><td>2022-02-26</td><td> 236</td></tr>\n",
              "\t<tr><td>118</td><td>2022-02-27</td><td> 215</td></tr>\n",
              "\t<tr><td>119</td><td>2022-02-28</td><td>  89</td></tr>\n",
              "\t<tr><td>120</td><td>2022-03-01</td><td> 146</td></tr>\n",
              "\t<tr><td>121</td><td>2022-03-02</td><td> 153</td></tr>\n",
              "\t<tr><td>122</td><td>2022-03-03</td><td> 139</td></tr>\n",
              "\t<tr><td>123</td><td>2022-03-04</td><td> 125</td></tr>\n",
              "\t<tr><td>124</td><td>2022-03-05</td><td> 102</td></tr>\n",
              "\t<tr><td>125</td><td>2022-03-06</td><td>  90</td></tr>\n",
              "</tbody>\n",
              "</table>\n"
            ],
            "text/markdown": "\nA data.frame: 126 × 3\n\n| X &lt;int&gt; | Date &lt;chr&gt; | Count &lt;int&gt; |\n|---|---|---|\n|  0 | 2021-11-01 | 725 |\n|  1 | 2021-11-02 | 862 |\n|  2 | 2021-11-03 | 919 |\n|  3 | 2021-11-04 | 918 |\n|  4 | 2021-11-05 | 763 |\n|  5 | 2021-11-06 | 670 |\n|  6 | 2021-11-07 | 723 |\n|  7 | 2021-11-08 | 603 |\n|  8 | 2021-11-09 | 788 |\n|  9 | 2021-11-10 | 853 |\n| 10 | 2021-11-11 | 854 |\n| 11 | 2021-11-12 | 860 |\n| 12 | 2021-11-13 | 872 |\n| 13 | 2021-11-14 | 875 |\n| 14 | 2021-11-15 | 782 |\n| 15 | 2021-11-16 | 819 |\n| 16 | 2021-11-17 | 862 |\n| 17 | 2021-11-18 | 860 |\n| 18 | 2021-11-19 | 877 |\n| 19 | 2021-11-20 | 725 |\n| 20 | 2021-11-21 | 727 |\n| 21 | 2021-11-22 | 615 |\n| 22 | 2021-11-23 | 720 |\n| 23 | 2021-11-24 | 803 |\n| 24 | 2021-11-25 | 758 |\n| 25 | 2021-11-26 | 710 |\n| 26 | 2021-11-27 | 701 |\n| 27 | 2021-11-28 | 715 |\n| 28 | 2021-11-29 | 511 |\n| 29 | 2021-11-30 | 705 |\n| ⋮ | ⋮ | ⋮ |\n|  96 | 2022-02-05 | 1345 |\n|  97 | 2022-02-06 |  835 |\n|  98 | 2022-02-07 |  641 |\n|  99 | 2022-02-08 |  736 |\n| 100 | 2022-02-09 |  884 |\n| 101 | 2022-02-10 |  817 |\n| 102 | 2022-02-11 |  767 |\n| 103 | 2022-02-12 |  672 |\n| 104 | 2022-02-13 |  512 |\n| 105 | 2022-02-14 |  320 |\n| 106 | 2022-02-15 |  348 |\n| 107 | 2022-02-16 |  439 |\n| 108 | 2022-02-17 |  467 |\n| 109 | 2022-02-18 |  319 |\n| 110 | 2022-02-19 |  281 |\n| 111 | 2022-02-20 |  278 |\n| 112 | 2022-02-21 |  200 |\n| 113 | 2022-02-22 |  236 |\n| 114 | 2022-02-23 |  272 |\n| 115 | 2022-02-24 |  246 |\n| 116 | 2022-02-25 |  260 |\n| 117 | 2022-02-26 |  236 |\n| 118 | 2022-02-27 |  215 |\n| 119 | 2022-02-28 |   89 |\n| 120 | 2022-03-01 |  146 |\n| 121 | 2022-03-02 |  153 |\n| 122 | 2022-03-03 |  139 |\n| 123 | 2022-03-04 |  125 |\n| 124 | 2022-03-05 |  102 |\n| 125 | 2022-03-06 |   90 |\n\n",
            "text/latex": "A data.frame: 126 × 3\n\\begin{tabular}{lll}\n X & Date & Count\\\\\n <int> & <chr> & <int>\\\\\n\\hline\n\t  0 & 2021-11-01 & 725\\\\\n\t  1 & 2021-11-02 & 862\\\\\n\t  2 & 2021-11-03 & 919\\\\\n\t  3 & 2021-11-04 & 918\\\\\n\t  4 & 2021-11-05 & 763\\\\\n\t  5 & 2021-11-06 & 670\\\\\n\t  6 & 2021-11-07 & 723\\\\\n\t  7 & 2021-11-08 & 603\\\\\n\t  8 & 2021-11-09 & 788\\\\\n\t  9 & 2021-11-10 & 853\\\\\n\t 10 & 2021-11-11 & 854\\\\\n\t 11 & 2021-11-12 & 860\\\\\n\t 12 & 2021-11-13 & 872\\\\\n\t 13 & 2021-11-14 & 875\\\\\n\t 14 & 2021-11-15 & 782\\\\\n\t 15 & 2021-11-16 & 819\\\\\n\t 16 & 2021-11-17 & 862\\\\\n\t 17 & 2021-11-18 & 860\\\\\n\t 18 & 2021-11-19 & 877\\\\\n\t 19 & 2021-11-20 & 725\\\\\n\t 20 & 2021-11-21 & 727\\\\\n\t 21 & 2021-11-22 & 615\\\\\n\t 22 & 2021-11-23 & 720\\\\\n\t 23 & 2021-11-24 & 803\\\\\n\t 24 & 2021-11-25 & 758\\\\\n\t 25 & 2021-11-26 & 710\\\\\n\t 26 & 2021-11-27 & 701\\\\\n\t 27 & 2021-11-28 & 715\\\\\n\t 28 & 2021-11-29 & 511\\\\\n\t 29 & 2021-11-30 & 705\\\\\n\t ⋮ & ⋮ & ⋮\\\\\n\t  96 & 2022-02-05 & 1345\\\\\n\t  97 & 2022-02-06 &  835\\\\\n\t  98 & 2022-02-07 &  641\\\\\n\t  99 & 2022-02-08 &  736\\\\\n\t 100 & 2022-02-09 &  884\\\\\n\t 101 & 2022-02-10 &  817\\\\\n\t 102 & 2022-02-11 &  767\\\\\n\t 103 & 2022-02-12 &  672\\\\\n\t 104 & 2022-02-13 &  512\\\\\n\t 105 & 2022-02-14 &  320\\\\\n\t 106 & 2022-02-15 &  348\\\\\n\t 107 & 2022-02-16 &  439\\\\\n\t 108 & 2022-02-17 &  467\\\\\n\t 109 & 2022-02-18 &  319\\\\\n\t 110 & 2022-02-19 &  281\\\\\n\t 111 & 2022-02-20 &  278\\\\\n\t 112 & 2022-02-21 &  200\\\\\n\t 113 & 2022-02-22 &  236\\\\\n\t 114 & 2022-02-23 &  272\\\\\n\t 115 & 2022-02-24 &  246\\\\\n\t 116 & 2022-02-25 &  260\\\\\n\t 117 & 2022-02-26 &  236\\\\\n\t 118 & 2022-02-27 &  215\\\\\n\t 119 & 2022-02-28 &   89\\\\\n\t 120 & 2022-03-01 &  146\\\\\n\t 121 & 2022-03-02 &  153\\\\\n\t 122 & 2022-03-03 &  139\\\\\n\t 123 & 2022-03-04 &  125\\\\\n\t 124 & 2022-03-05 &  102\\\\\n\t 125 & 2022-03-06 &   90\\\\\n\\end{tabular}\n"
          },
          "metadata": {}
        }
      ]
    },
    {
      "cell_type": "code",
      "source": [
        "Kikwit1995[['Date']] <- as.Date(Kikwit1995[['Date']],\n",
        "                                   format = \"%Y-%m-%d\")"
      ],
      "metadata": {
        "id": "mCS7Gj6jF3LV"
      },
      "execution_count": null,
      "outputs": []
    },
    {
      "cell_type": "code",
      "source": [
        "View(Kikwit1995)"
      ],
      "metadata": {
        "colab": {
          "base_uri": "https://localhost:8080/",
          "height": 1000
        },
        "id": "qqWrzJ9iGFE1",
        "outputId": "fb1ebb9b-c9fb-4e99-b7c7-7b881d01fcea"
      },
      "execution_count": null,
      "outputs": [
        {
          "output_type": "display_data",
          "data": {
            "text/plain": [
              "    X   Date       Count\n",
              "1    0  2021-11-01 725  \n",
              "2    1  2021-11-02 862  \n",
              "3    2  2021-11-03 919  \n",
              "4    3  2021-11-04 918  \n",
              "5    4  2021-11-05 763  \n",
              "6    5  2021-11-06 670  \n",
              "7    6  2021-11-07 723  \n",
              "8    7  2021-11-08 603  \n",
              "9    8  2021-11-09 788  \n",
              "10   9  2021-11-10 853  \n",
              "11  10  2021-11-11 854  \n",
              "12  11  2021-11-12 860  \n",
              "13  12  2021-11-13 872  \n",
              "14  13  2021-11-14 875  \n",
              "15  14  2021-11-15 782  \n",
              "16  15  2021-11-16 819  \n",
              "17  16  2021-11-17 862  \n",
              "18  17  2021-11-18 860  \n",
              "19  18  2021-11-19 877  \n",
              "20  19  2021-11-20 725  \n",
              "21  20  2021-11-21 727  \n",
              "22  21  2021-11-22 615  \n",
              "23  22  2021-11-23 720  \n",
              "24  23  2021-11-24 803  \n",
              "25  24  2021-11-25 758  \n",
              "26  25  2021-11-26 710  \n",
              "27  26  2021-11-27 701  \n",
              "28  27  2021-11-28 715  \n",
              "29  28  2021-11-29 511  \n",
              "30  29  2021-11-30 705  \n",
              "⋮   ⋮   ⋮          ⋮    \n",
              "97   96 2022-02-05 1345 \n",
              "98   97 2022-02-06  835 \n",
              "99   98 2022-02-07  641 \n",
              "100  99 2022-02-08  736 \n",
              "101 100 2022-02-09  884 \n",
              "102 101 2022-02-10  817 \n",
              "103 102 2022-02-11  767 \n",
              "104 103 2022-02-12  672 \n",
              "105 104 2022-02-13  512 \n",
              "106 105 2022-02-14  320 \n",
              "107 106 2022-02-15  348 \n",
              "108 107 2022-02-16  439 \n",
              "109 108 2022-02-17  467 \n",
              "110 109 2022-02-18  319 \n",
              "111 110 2022-02-19  281 \n",
              "112 111 2022-02-20  278 \n",
              "113 112 2022-02-21  200 \n",
              "114 113 2022-02-22  236 \n",
              "115 114 2022-02-23  272 \n",
              "116 115 2022-02-24  246 \n",
              "117 116 2022-02-25  260 \n",
              "118 117 2022-02-26  236 \n",
              "119 118 2022-02-27  215 \n",
              "120 119 2022-02-28   89 \n",
              "121 120 2022-03-01  146 \n",
              "122 121 2022-03-02  153 \n",
              "123 122 2022-03-03  139 \n",
              "124 123 2022-03-04  125 \n",
              "125 124 2022-03-05  102 \n",
              "126 125 2022-03-06   90 "
            ],
            "text/html": [
              "<table class=\"dataframe\">\n",
              "<caption>A data.frame: 126 × 3</caption>\n",
              "<thead>\n",
              "\t<tr><th scope=col>X</th><th scope=col>Date</th><th scope=col>Count</th></tr>\n",
              "\t<tr><th scope=col>&lt;int&gt;</th><th scope=col>&lt;date&gt;</th><th scope=col>&lt;int&gt;</th></tr>\n",
              "</thead>\n",
              "<tbody>\n",
              "\t<tr><td> 0</td><td>2021-11-01</td><td>725</td></tr>\n",
              "\t<tr><td> 1</td><td>2021-11-02</td><td>862</td></tr>\n",
              "\t<tr><td> 2</td><td>2021-11-03</td><td>919</td></tr>\n",
              "\t<tr><td> 3</td><td>2021-11-04</td><td>918</td></tr>\n",
              "\t<tr><td> 4</td><td>2021-11-05</td><td>763</td></tr>\n",
              "\t<tr><td> 5</td><td>2021-11-06</td><td>670</td></tr>\n",
              "\t<tr><td> 6</td><td>2021-11-07</td><td>723</td></tr>\n",
              "\t<tr><td> 7</td><td>2021-11-08</td><td>603</td></tr>\n",
              "\t<tr><td> 8</td><td>2021-11-09</td><td>788</td></tr>\n",
              "\t<tr><td> 9</td><td>2021-11-10</td><td>853</td></tr>\n",
              "\t<tr><td>10</td><td>2021-11-11</td><td>854</td></tr>\n",
              "\t<tr><td>11</td><td>2021-11-12</td><td>860</td></tr>\n",
              "\t<tr><td>12</td><td>2021-11-13</td><td>872</td></tr>\n",
              "\t<tr><td>13</td><td>2021-11-14</td><td>875</td></tr>\n",
              "\t<tr><td>14</td><td>2021-11-15</td><td>782</td></tr>\n",
              "\t<tr><td>15</td><td>2021-11-16</td><td>819</td></tr>\n",
              "\t<tr><td>16</td><td>2021-11-17</td><td>862</td></tr>\n",
              "\t<tr><td>17</td><td>2021-11-18</td><td>860</td></tr>\n",
              "\t<tr><td>18</td><td>2021-11-19</td><td>877</td></tr>\n",
              "\t<tr><td>19</td><td>2021-11-20</td><td>725</td></tr>\n",
              "\t<tr><td>20</td><td>2021-11-21</td><td>727</td></tr>\n",
              "\t<tr><td>21</td><td>2021-11-22</td><td>615</td></tr>\n",
              "\t<tr><td>22</td><td>2021-11-23</td><td>720</td></tr>\n",
              "\t<tr><td>23</td><td>2021-11-24</td><td>803</td></tr>\n",
              "\t<tr><td>24</td><td>2021-11-25</td><td>758</td></tr>\n",
              "\t<tr><td>25</td><td>2021-11-26</td><td>710</td></tr>\n",
              "\t<tr><td>26</td><td>2021-11-27</td><td>701</td></tr>\n",
              "\t<tr><td>27</td><td>2021-11-28</td><td>715</td></tr>\n",
              "\t<tr><td>28</td><td>2021-11-29</td><td>511</td></tr>\n",
              "\t<tr><td>29</td><td>2021-11-30</td><td>705</td></tr>\n",
              "\t<tr><td>⋮</td><td>⋮</td><td>⋮</td></tr>\n",
              "\t<tr><td> 96</td><td>2022-02-05</td><td>1345</td></tr>\n",
              "\t<tr><td> 97</td><td>2022-02-06</td><td> 835</td></tr>\n",
              "\t<tr><td> 98</td><td>2022-02-07</td><td> 641</td></tr>\n",
              "\t<tr><td> 99</td><td>2022-02-08</td><td> 736</td></tr>\n",
              "\t<tr><td>100</td><td>2022-02-09</td><td> 884</td></tr>\n",
              "\t<tr><td>101</td><td>2022-02-10</td><td> 817</td></tr>\n",
              "\t<tr><td>102</td><td>2022-02-11</td><td> 767</td></tr>\n",
              "\t<tr><td>103</td><td>2022-02-12</td><td> 672</td></tr>\n",
              "\t<tr><td>104</td><td>2022-02-13</td><td> 512</td></tr>\n",
              "\t<tr><td>105</td><td>2022-02-14</td><td> 320</td></tr>\n",
              "\t<tr><td>106</td><td>2022-02-15</td><td> 348</td></tr>\n",
              "\t<tr><td>107</td><td>2022-02-16</td><td> 439</td></tr>\n",
              "\t<tr><td>108</td><td>2022-02-17</td><td> 467</td></tr>\n",
              "\t<tr><td>109</td><td>2022-02-18</td><td> 319</td></tr>\n",
              "\t<tr><td>110</td><td>2022-02-19</td><td> 281</td></tr>\n",
              "\t<tr><td>111</td><td>2022-02-20</td><td> 278</td></tr>\n",
              "\t<tr><td>112</td><td>2022-02-21</td><td> 200</td></tr>\n",
              "\t<tr><td>113</td><td>2022-02-22</td><td> 236</td></tr>\n",
              "\t<tr><td>114</td><td>2022-02-23</td><td> 272</td></tr>\n",
              "\t<tr><td>115</td><td>2022-02-24</td><td> 246</td></tr>\n",
              "\t<tr><td>116</td><td>2022-02-25</td><td> 260</td></tr>\n",
              "\t<tr><td>117</td><td>2022-02-26</td><td> 236</td></tr>\n",
              "\t<tr><td>118</td><td>2022-02-27</td><td> 215</td></tr>\n",
              "\t<tr><td>119</td><td>2022-02-28</td><td>  89</td></tr>\n",
              "\t<tr><td>120</td><td>2022-03-01</td><td> 146</td></tr>\n",
              "\t<tr><td>121</td><td>2022-03-02</td><td> 153</td></tr>\n",
              "\t<tr><td>122</td><td>2022-03-03</td><td> 139</td></tr>\n",
              "\t<tr><td>123</td><td>2022-03-04</td><td> 125</td></tr>\n",
              "\t<tr><td>124</td><td>2022-03-05</td><td> 102</td></tr>\n",
              "\t<tr><td>125</td><td>2022-03-06</td><td>  90</td></tr>\n",
              "</tbody>\n",
              "</table>\n"
            ],
            "text/markdown": "\nA data.frame: 126 × 3\n\n| X &lt;int&gt; | Date &lt;date&gt; | Count &lt;int&gt; |\n|---|---|---|\n|  0 | 2021-11-01 | 725 |\n|  1 | 2021-11-02 | 862 |\n|  2 | 2021-11-03 | 919 |\n|  3 | 2021-11-04 | 918 |\n|  4 | 2021-11-05 | 763 |\n|  5 | 2021-11-06 | 670 |\n|  6 | 2021-11-07 | 723 |\n|  7 | 2021-11-08 | 603 |\n|  8 | 2021-11-09 | 788 |\n|  9 | 2021-11-10 | 853 |\n| 10 | 2021-11-11 | 854 |\n| 11 | 2021-11-12 | 860 |\n| 12 | 2021-11-13 | 872 |\n| 13 | 2021-11-14 | 875 |\n| 14 | 2021-11-15 | 782 |\n| 15 | 2021-11-16 | 819 |\n| 16 | 2021-11-17 | 862 |\n| 17 | 2021-11-18 | 860 |\n| 18 | 2021-11-19 | 877 |\n| 19 | 2021-11-20 | 725 |\n| 20 | 2021-11-21 | 727 |\n| 21 | 2021-11-22 | 615 |\n| 22 | 2021-11-23 | 720 |\n| 23 | 2021-11-24 | 803 |\n| 24 | 2021-11-25 | 758 |\n| 25 | 2021-11-26 | 710 |\n| 26 | 2021-11-27 | 701 |\n| 27 | 2021-11-28 | 715 |\n| 28 | 2021-11-29 | 511 |\n| 29 | 2021-11-30 | 705 |\n| ⋮ | ⋮ | ⋮ |\n|  96 | 2022-02-05 | 1345 |\n|  97 | 2022-02-06 |  835 |\n|  98 | 2022-02-07 |  641 |\n|  99 | 2022-02-08 |  736 |\n| 100 | 2022-02-09 |  884 |\n| 101 | 2022-02-10 |  817 |\n| 102 | 2022-02-11 |  767 |\n| 103 | 2022-02-12 |  672 |\n| 104 | 2022-02-13 |  512 |\n| 105 | 2022-02-14 |  320 |\n| 106 | 2022-02-15 |  348 |\n| 107 | 2022-02-16 |  439 |\n| 108 | 2022-02-17 |  467 |\n| 109 | 2022-02-18 |  319 |\n| 110 | 2022-02-19 |  281 |\n| 111 | 2022-02-20 |  278 |\n| 112 | 2022-02-21 |  200 |\n| 113 | 2022-02-22 |  236 |\n| 114 | 2022-02-23 |  272 |\n| 115 | 2022-02-24 |  246 |\n| 116 | 2022-02-25 |  260 |\n| 117 | 2022-02-26 |  236 |\n| 118 | 2022-02-27 |  215 |\n| 119 | 2022-02-28 |   89 |\n| 120 | 2022-03-01 |  146 |\n| 121 | 2022-03-02 |  153 |\n| 122 | 2022-03-03 |  139 |\n| 123 | 2022-03-04 |  125 |\n| 124 | 2022-03-05 |  102 |\n| 125 | 2022-03-06 |   90 |\n\n",
            "text/latex": "A data.frame: 126 × 3\n\\begin{tabular}{lll}\n X & Date & Count\\\\\n <int> & <date> & <int>\\\\\n\\hline\n\t  0 & 2021-11-01 & 725\\\\\n\t  1 & 2021-11-02 & 862\\\\\n\t  2 & 2021-11-03 & 919\\\\\n\t  3 & 2021-11-04 & 918\\\\\n\t  4 & 2021-11-05 & 763\\\\\n\t  5 & 2021-11-06 & 670\\\\\n\t  6 & 2021-11-07 & 723\\\\\n\t  7 & 2021-11-08 & 603\\\\\n\t  8 & 2021-11-09 & 788\\\\\n\t  9 & 2021-11-10 & 853\\\\\n\t 10 & 2021-11-11 & 854\\\\\n\t 11 & 2021-11-12 & 860\\\\\n\t 12 & 2021-11-13 & 872\\\\\n\t 13 & 2021-11-14 & 875\\\\\n\t 14 & 2021-11-15 & 782\\\\\n\t 15 & 2021-11-16 & 819\\\\\n\t 16 & 2021-11-17 & 862\\\\\n\t 17 & 2021-11-18 & 860\\\\\n\t 18 & 2021-11-19 & 877\\\\\n\t 19 & 2021-11-20 & 725\\\\\n\t 20 & 2021-11-21 & 727\\\\\n\t 21 & 2021-11-22 & 615\\\\\n\t 22 & 2021-11-23 & 720\\\\\n\t 23 & 2021-11-24 & 803\\\\\n\t 24 & 2021-11-25 & 758\\\\\n\t 25 & 2021-11-26 & 710\\\\\n\t 26 & 2021-11-27 & 701\\\\\n\t 27 & 2021-11-28 & 715\\\\\n\t 28 & 2021-11-29 & 511\\\\\n\t 29 & 2021-11-30 & 705\\\\\n\t ⋮ & ⋮ & ⋮\\\\\n\t  96 & 2022-02-05 & 1345\\\\\n\t  97 & 2022-02-06 &  835\\\\\n\t  98 & 2022-02-07 &  641\\\\\n\t  99 & 2022-02-08 &  736\\\\\n\t 100 & 2022-02-09 &  884\\\\\n\t 101 & 2022-02-10 &  817\\\\\n\t 102 & 2022-02-11 &  767\\\\\n\t 103 & 2022-02-12 &  672\\\\\n\t 104 & 2022-02-13 &  512\\\\\n\t 105 & 2022-02-14 &  320\\\\\n\t 106 & 2022-02-15 &  348\\\\\n\t 107 & 2022-02-16 &  439\\\\\n\t 108 & 2022-02-17 &  467\\\\\n\t 109 & 2022-02-18 &  319\\\\\n\t 110 & 2022-02-19 &  281\\\\\n\t 111 & 2022-02-20 &  278\\\\\n\t 112 & 2022-02-21 &  200\\\\\n\t 113 & 2022-02-22 &  236\\\\\n\t 114 & 2022-02-23 &  272\\\\\n\t 115 & 2022-02-24 &  246\\\\\n\t 116 & 2022-02-25 &  260\\\\\n\t 117 & 2022-02-26 &  236\\\\\n\t 118 & 2022-02-27 &  215\\\\\n\t 119 & 2022-02-28 &   89\\\\\n\t 120 & 2022-03-01 &  146\\\\\n\t 121 & 2022-03-02 &  153\\\\\n\t 122 & 2022-03-03 &  139\\\\\n\t 123 & 2022-03-04 &  125\\\\\n\t 124 & 2022-03-05 &  102\\\\\n\t 125 & 2022-03-06 &   90\\\\\n\\end{tabular}\n"
          },
          "metadata": {}
        }
      ]
    },
    {
      "cell_type": "code",
      "source": [
        "# make barplot of new case counts\n",
        "barplot(t(Kikwit1995$Count), main = \"New Cases\", xlab = \"Day\", ylab = \"Cases\")\n",
        "# add an X axis to give a reference epidemic time\n",
        "axis(side = 1, at = seq(0, nrow(Kikwit1995), 20)) "
      ],
      "metadata": {
        "colab": {
          "base_uri": "https://localhost:8080/",
          "height": 437
        },
        "id": "_UUiSe4xluwd",
        "outputId": "702c2779-ca19-48db-9673-b11b779fa284"
      },
      "execution_count": null,
      "outputs": [
        {
          "output_type": "display_data",
          "data": {
            "text/plain": [
              "Plot with title “New Cases”"
            ],
            "image/png": "[encoded data removed]"
          },
          "metadata": {
            "image/png": {
              "width": 420,
              "height": 420
            }
          }
        }
      ]
    },
    {
      "cell_type": "code",
      "source": [
        "# Create a model to relate observe data to epidemic process\n",
        "data_model = DataModel(Kikwit1995$Count,\n",
        "                       type = \"identity\",\n",
        "                       compartment=\"I_star\",\n",
        "                       cumulative=FALSE)"
      ],
      "metadata": {
        "id": "GxumyQfilzq3"
      },
      "execution_count": null,
      "outputs": []
    },
    {
      "cell_type": "code",
      "source": [
        "# Create a model to describe relationship of any covariates to epidemic intensity\n",
        "exposure_model_1 = ExposureModel(matrix(1, nrow = nrow(Kikwit1995)),\n",
        "                                nTpt = nrow(Kikwit1995),\n",
        "                                nLoc = 1,\n",
        "                                betaPriorPrecision = 0.5,\n",
        "                                betaPriorMean = 0)"
      ],
      "metadata": {
        "colab": {
          "base_uri": "https://localhost:8080/"
        },
        "id": "jVSsvP55l6NP",
        "outputId": "9918c10f-e2bb-4b33-b5d6-bea222fb730b"
      },
      "execution_count": null,
      "outputs": [
        {
          "output_type": "stream",
          "name": "stdout",
          "text": [
            "[1] \"Assuming equally spaced count data.\"\n"
          ]
        }
      ]
    },
    {
      "cell_type": "code",
      "source": [
        "# Create a (more realistic) Model to describe relationship of any covariates to epidemic intensity\n",
        "# In this analysis we know on which date interventions began, so we may include a linear term\n",
        "# starting on that date. \n",
        "intervention_term = cumsum(Kikwit1995$Date >  as.Date(\"01-03-2022\", \"%m-%d-%Y\"))\n",
        "exposure_model_2 = ExposureModel(cbind(1,intervention_term),\n",
        "                                nTpt = nrow(Kikwit1995),\n",
        "                                nLoc = 1,\n",
        "                                betaPriorPrecision = 0.5,\n",
        "                                betaPriorMean = 0)"
      ],
      "metadata": {
        "colab": {
          "base_uri": "https://localhost:8080/"
        },
        "id": "pk9Lheoyl9z2",
        "outputId": "16e6b2f9-3702-4aea-d74f-83d189e086ea"
      },
      "execution_count": null,
      "outputs": [
        {
          "output_type": "stream",
          "name": "stdout",
          "text": [
            "[1] \"Assuming equally spaced count data.\"\n"
          ]
        }
      ]
    },
    {
      "cell_type": "code",
      "source": [
        "# There's no reinfection in this case, so we just use a \"SEIR\" model. \n",
        "reinfection_model = ReinfectionModel(\"SEIR\")"
      ],
      "metadata": {
        "id": "Sg4xNvYcZapF"
      },
      "execution_count": null,
      "outputs": []
    },
    {
      "cell_type": "code",
      "source": [
        "distance_model = DistanceModel(list(matrix(0)))"
      ],
      "metadata": {
        "id": "81PX68cPmKoA"
      },
      "execution_count": null,
      "outputs": []
    },
    {
      "cell_type": "code",
      "source": [
        "# Set initial population sizes\n",
        "initial_value_container = InitialValueContainer(S0=9.03e7,\n",
        "                                                E0=725,\n",
        "                                                I0=725,\n",
        "                                                R0=0)"
      ],
      "metadata": {
        "id": "UqmQA8R6mNJn"
      },
      "execution_count": null,
      "outputs": []
    },
    {
      "cell_type": "code",
      "source": [
        "transition_priors = ExponentialTransitionPriors(p_ei = 1-exp(-1/5), \n",
        "                                     p_ir= 1-exp(-1/7),\n",
        "                                     p_ei_ess = 10,\n",
        "                                     p_ir_ess = 10)"
      ],
      "metadata": {
        "id": "aoSGLW9YmRZj"
      },
      "execution_count": null,
      "outputs": []
    },
    {
      "cell_type": "code",
      "source": [
        "# Set algorithm configuration\n",
        "sampling_control = SamplingControl(seed = 123123, \n",
        "                                   n_cores = 8,\n",
        "                                   algorithm=\"Beaumont2009\",\n",
        "                                   list(batch_size = 2000,\n",
        "                                           epochs = 1e6,\n",
        "                                           max_batches = 100,\n",
        "                                           shrinkage = 0.99,\n",
        "                                           multivariate_perturbation=FALSE,\n",
        "                                           keep_compartments = TRUE\n",
        "                                         )\n",
        "                                   )"
      ],
      "metadata": {
        "id": "4v1vS3YYmT28"
      },
      "execution_count": null,
      "outputs": []
    },
    {
      "cell_type": "code",
      "source": [
        "# Underspecified intensity\n",
        "runtime1 = system.time(result1 <- SpatialSEIRModel(data_model,\n",
        "                          exposure_model_1,\n",
        "                          reinfection_model,\n",
        "                          distance_model,\n",
        "                          transition_priors,\n",
        "                          initial_value_container,\n",
        "                          sampling_control,\n",
        "                          samples = 100,\n",
        "                          verbose = 0))\n",
        "#     user   system  elapsed \n",
        "# 2258.391   17.449  294.584\n",
        "runtime2 = system.time(result2 <- SpatialSEIRModel(data_model,\n",
        "                          exposure_model_2,\n",
        "                          reinfection_model,\n",
        "                          distance_model,\n",
        "                          transition_priors,\n",
        "                          initial_value_container,\n",
        "                          sampling_control,\n",
        "                          samples = 100,\n",
        "                          verbose = 0))"
      ],
      "metadata": {
        "id": "2MhbXlTtmXqd"
      },
      "execution_count": null,
      "outputs": []
    },
    {
      "cell_type": "code",
      "source": [
        "timeMatrix = rbind(runtime1,runtime2)\n",
        "rownames(timeMatrix) = paste(\"model\", 1:2)\n",
        "print(timeMatrix[,1:3])"
      ],
      "metadata": {
        "id": "MFZZefowma8X",
        "colab": {
          "base_uri": "https://localhost:8080/"
        },
        "outputId": "f3294c16-bea0-4cac-a47e-c56dfe134125"
      },
      "execution_count": null,
      "outputs": [
        {
          "output_type": "stream",
          "name": "stdout",
          "text": [
            "        user.self sys.self  elapsed\n",
            "model 1   885.258    2.865  450.617\n",
            "model 2  3048.273    9.562 1551.327\n"
          ]
        }
      ]
    },
    {
      "cell_type": "code",
      "source": [
        "summary(result2)"
      ],
      "metadata": {
        "colab": {
          "base_uri": "https://localhost:8080/",
          "height": 381
        },
        "id": "bJ-rC63BJqW3",
        "outputId": "b849481e-5e23-432b-e1ee-ad9997fb8367"
      },
      "execution_count": null,
      "outputs": [
        {
          "output_type": "display_data",
          "data": {
            "text/plain": [
              "Summary: SEIR Model \n",
              "\n",
              "Locations: 1\n",
              "Time Points: 126\n",
              "Data Model Parameters: 0\n",
              "Exposure Process Parameters: 2\n",
              "Reinfection Model Parameters: 0\n",
              "Spatial Parameters: 0\n",
              "Transition Parameters: 2\n",
              "\n",
              "\n",
              "Parameter Estimates:\n",
              "                Mean    SD     95% LB    95% UB\n",
              "Beta_SE_1 -1.268e+00 0.313 -1.884e+00 -6.60e-01\n",
              "Beta_SE_2 -1.160e-01 0.019 -1.520e-01 -8.50e-02\n",
              "gamma_EI   1.350e-01 0.029  9.400e-02  2.04e-01\n",
              "gamma_IR   1.090e-01 0.067  1.400e-02  2.81e-01\n",
              "S0_1       9.030e+07 0.000  9.030e+07  9.03e+07\n",
              "E0_1       7.250e+02 0.000  7.250e+02  7.25e+02\n",
              "I0_1       7.250e+02 0.000  7.250e+02  7.25e+02\n",
              "R0_1       0.000e+00 0.000  0.000e+00  0.00e+00\n"
            ]
          },
          "metadata": {}
        }
      ]
    },
    {
      "cell_type": "code",
      "source": [
        "plot(result2)"
      ],
      "metadata": {
        "colab": {
          "base_uri": "https://localhost:8080/",
          "height": 1000
        },
        "id": "u5RDpHIEU_1S",
        "outputId": "2350e9d2-af7e-4bc6-9335-640d9584582a"
      },
      "execution_count": null,
      "outputs": [
        {
          "name": "stdout",
          "output_type": "stream",
          "text": [
            "Press return to see next plot:\n",
            "Press return to see next plot:\n"
          ]
        },
        {
          "output_type": "display_data",
          "data": {
            "text/plain": [
              "Plot with title “Beta_SE_1”"
            ],
            "image/png": "[encoded data removed]"
          },
          "metadata": {
            "image/png": {
              "width": 420,
              "height": 420
            }
          }
        },
        {
          "name": "stdout",
          "output_type": "stream",
          "text": [
            "Press return to see next plot:\n"
          ]
        },
        {
          "output_type": "display_data",
          "data": {
            "text/plain": [
              "Plot with title “Beta_SE_2”"
            ],
            "image/png": "[encoded data removed]"
          },
          "metadata": {
            "image/png": {
              "width": 420,
              "height": 420
            }
          }
        },
        {
          "name": "stdout",
          "output_type": "stream",
          "text": [
            "Press return to see next plot:\n"
          ]
        },
        {
          "output_type": "display_data",
          "data": {
            "text/plain": [
              "Plot with title “gamma_EI”"
            ],
            "image/png": "[encoded data removed]"
          },
          "metadata": {
            "image/png": {
              "width": 420,
              "height": 420
            }
          }
        },
        {
          "name": "stdout",
          "output_type": "stream",
          "text": [
            "Press return to see next plot:\n"
          ]
        },
        {
          "output_type": "display_data",
          "data": {
            "text/plain": [
              "Plot with title “gamma_IR”"
            ],
            "image/png": "[encoded data removed]"
          },
          "metadata": {
            "image/png": {
              "width": 420,
              "height": 420
            }
          }
        },
        {
          "name": "stdout",
          "output_type": "stream",
          "text": [
            "Press return to see next plot:\n"
          ]
        },
        {
          "output_type": "display_data",
          "data": {
            "text/plain": [
              "Plot with title “S0_1”"
            ],
            "image/png": "[encoded data removed]"
          },
          "metadata": {
            "image/png": {
              "width": 420,
              "height": 420
            }
          }
        },
        {
          "name": "stdout",
          "output_type": "stream",
          "text": [
            "Press return to see next plot:\n"
          ]
        },
        {
          "output_type": "display_data",
          "data": {
            "text/plain": [
              "Plot with title “E0_1”"
            ],
            "image/png": "[encoded data removed]"
          },
          "metadata": {
            "image/png": {
              "width": 420,
              "height": 420
            }
          }
        },
        {
          "output_type": "stream",
          "name": "stdout",
          "text": [
            "Press return to see next plot:"
          ]
        },
        {
          "output_type": "display_data",
          "data": {
            "text/plain": [
              "Plot with title “I0_1”"
            ],
            "image/png": "[encoded data removed]"
          },
          "metadata": {
            "image/png": {
              "width": 420,
              "height": 420
            }
          }
        },
        {
          "output_type": "display_data",
          "data": {
            "text/plain": [
              "Plot with title “R0_1”"
            ],
            "image/png": "[encoded data removed]"
          },
          "metadata": {
            "image/png": {
              "width": 420,
              "height": 420
            }
          }
        }
      ]
    },
    {
      "cell_type": "code",
      "source": [
        "compareModels(list(result1, result2), n_samples = 1000, \n",
        "              batch_size = 2000)"
      ],
      "metadata": {
        "colab": {
          "base_uri": "https://localhost:8080/",
          "height": 149
        },
        "id": "bSSfAdFKJv0h",
        "outputId": "7409b144-63dc-4ccf-d14d-fa7b6bccfc8b"
      },
      "execution_count": null,
      "outputs": [
        {
          "output_type": "stream",
          "name": "stdout",
          "text": [
            "[1] \"Assuming equal prior probabilities.\"\n"
          ]
        },
        {
          "output_type": "display_data",
          "data": {
            "text/html": [
              "<table class=\"dataframe\">\n",
              "<caption>A matrix: 2 × 2 of type dbl</caption>\n",
              "<tbody>\n",
              "\t<tr><td>NaN</td><td>0</td></tr>\n",
              "\t<tr><td>Inf</td><td>1</td></tr>\n",
              "</tbody>\n",
              "</table>\n"
            ],
            "text/markdown": "\nA matrix: 2 × 2 of type dbl\n\n| NaN | 0 |\n| Inf | 1 |\n\n",
            "text/latex": "A matrix: 2 × 2 of type dbl\n\\begin{tabular}{ll}\n\t NaN & 0\\\\\n\t Inf & 1\\\\\n\\end{tabular}\n",
            "text/plain": [
              "     [,1] [,2]\n",
              "[1,] NaN  0   \n",
              "[2,] Inf  1   "
            ]
          },
          "metadata": {}
        }
      ]
    },
    {
      "cell_type": "code",
      "source": [
        "# Simulate new epidemics based on the accepted parameters for model 1\n",
        "simulations1 <- epidemic.simulations(result1, replicates = 50)\n",
        "simulations2 <- epidemic.simulations(result2, replicates = 50)\n",
        "# Add reproductive number estimates to simulation results\n",
        "system.time(simulations1 <- ComputeR0(simulations1))"
      ],
      "metadata": {
        "id": "CH3aXsEFsI3y",
        "colab": {
          "base_uri": "https://localhost:8080/",
          "height": 69
        },
        "outputId": "6344b6d9-0950-4171-c1f5-3cf35be5fc25"
      },
      "execution_count": null,
      "outputs": [
        {
          "output_type": "stream",
          "name": "stdout",
          "text": [
            "[1] \"Done with R0sim\"\n"
          ]
        },
        {
          "output_type": "display_data",
          "data": {
            "text/plain": [
              "   user  system elapsed \n",
              "  0.796   0.195 198.206 "
            ]
          },
          "metadata": {}
        }
      ]
    },
    {
      "cell_type": "code",
      "source": [
        "plotPosteriorPredictive = function(simulations, main)\n",
        "{\n",
        "  allSimulatedI_star = sapply(simulations$simulationResults, function(x){x$I_star})\n",
        "  \n",
        "  lowerQuantile = apply(allSimulatedI_star, 1, quantile, probs = c(0.025))\n",
        "  posteriorMean = apply(allSimulatedI_star, 1, mean)\n",
        "  upperQuantile = apply(allSimulatedI_star, 1, quantile, probs = c(0.975))\n",
        "  \n",
        "  \n",
        "  plot(Kikwit1995$Count, ylim = c(0, max(Kikwit1995$Count)),\n",
        "       xlab = \"Epidemic Day\", ylab = \"New Cases\", main = main)\n",
        "  lines(upperQuantile, lty = 2, col = \"blue\")\n",
        "  lines(lowerQuantile, lty = 2, col = \"blue\")\n",
        "  lines(posteriorMean, lty = 1, col = \"blue\")\n",
        "  \n",
        "}\n",
        "\n"
      ],
      "metadata": {
        "id": "WST2-rJT-Tdz"
      },
      "execution_count": null,
      "outputs": []
    },
    {
      "cell_type": "code",
      "source": [
        ""
      ],
      "metadata": {
        "id": "lajKjQMCbP6q"
      },
      "execution_count": null,
      "outputs": []
    }
  ]
}